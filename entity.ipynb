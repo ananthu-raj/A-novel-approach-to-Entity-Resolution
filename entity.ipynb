{
  "cells": [
    {
      "cell_type": "markdown",
      "metadata": {
        "id": "view-in-github",
        "colab_type": "text"
      },
      "source": [
        "<a href=\"https://colab.research.google.com/github/ananthu-raj/A-novel-approach-to-Entity-Resolution/blob/main/entity.ipynb\" target=\"_parent\"><img src=\"https://colab.research.google.com/assets/colab-badge.svg\" alt=\"Open In Colab\"/></a>"
      ]
    },
    {
      "cell_type": "markdown",
      "source": [
        "# **Entity Resolution**"
      ],
      "metadata": {
        "id": "p2h6rCScpqk5"
      },
      "id": "p2h6rCScpqk5"
    },
    {
      "cell_type": "code",
      "execution_count": 1,
      "metadata": {
        "id": "838aae06"
      },
      "outputs": [],
      "source": [
        "import os\n",
        "import sys\n",
        "import pandas as pd\n",
        "import numpy as np\n",
        "import seaborn as sns\n",
        "import matplotlib.pyplot as plt\n",
        "# For regular expressions\n",
        "import re\n",
        "# For handling string\n",
        "import string\n",
        "# For performing mathematical operations\n",
        "import math\n",
        "import warnings\n",
        "%matplotlib inline\n",
        "\n",
        "# Text datasets\n",
        "from bs4 import BeautifulSoup\n",
        "import nltk\n",
        "import sklearn\n",
        "import re\n",
        "import string\n",
        "# For downloading and importing data\n",
        "import os\n",
        "import urllib\n",
        "import itertools\n",
        "import tarfile\n",
        "from tqdm import tqdm\n",
        "\n",
        "# unit test case\n",
        "import unittest as Test\n",
        "\n",
        "import torch\n",
        "import torchvision\n",
        "from sklearn.model_selection import train_test_split\n",
        "from sklearn.preprocessing import LabelEncoder\n",
        "from keras.models import Model\n",
        "from keras.layers import LSTM, Activation, Dense, Dropout, Input, Embedding\n",
        "from tensorflow.keras.optimizers import RMSprop\n",
        "from keras.preprocessing.text import Tokenizer\n",
        "from keras.preprocessing import sequence\n",
        "from tensorflow.keras.utils import to_categorical\n",
        "from keras.callbacks import EarlyStopping\n",
        "%matplotlib inline\n",
        "\n",
        "!pip install imblearn"
      ],
      "id": "838aae06"
    },
    {
      "cell_type": "code",
      "source": [
        "import tensorflow as tf\n",
        "import numpy as np                                \n",
        "import matplotlib.pyplot as plt\n",
        "import keras as k\n",
        "\n",
        "\n",
        "from keras.models import Sequential\n",
        "from keras.layers import Dense, Dropout, Flatten\n",
        "from keras.layers import Conv2D, MaxPooling2D, BatchNormalization\n",
        "from tensorflow.keras.optimizers import SGD\n",
        "from keras.models import load_model\n",
        "from keras import backend as K"
      ],
      "metadata": {
        "id": "rFsquhJl8sA9"
      },
      "id": "rFsquhJl8sA9",
      "execution_count": 2,
      "outputs": []
    },
    {
      "cell_type": "code",
      "execution_count": 3,
      "metadata": {
        "id": "e1bcd67f"
      },
      "outputs": [],
      "source": [
        "am = pd.read_csv('https://raw.githubusercontent.com/ananthu-raj/A-novel-approach-to-Entity-Resolution/main/am.csv')\n",
        "go = pd.read_csv('https://raw.githubusercontent.com/ananthu-raj/A-novel-approach-to-Entity-Resolution/main/go.csv')\n",
        "match = pd.read_csv('https://raw.githubusercontent.com/ananthu-raj/A-novel-approach-to-Entity-Resolution/main/Amzon_GoogleProducts_perfectMapping.csv')"
      ],
      "id": "e1bcd67f"
    },
    {
      "cell_type": "code",
      "execution_count": 4,
      "metadata": {
        "colab": {
          "base_uri": "https://localhost:8080/",
          "height": 424
        },
        "id": "c47d448e",
        "outputId": "2e2ed845-f8f1-49a2-e498-05c572689d48"
      },
      "outputs": [
        {
          "output_type": "execute_result",
          "data": {
            "text/plain": [
              "            a_id                                            a_title  \\\n",
              "0     b0006zf55o   ca international - arcserve lap/desktop oem 30pk   \n",
              "1     b000g80lqo  peachtree by sage premium accounting for nonpr...   \n",
              "2     b0006se5bq                            singing coach unlimited   \n",
              "3     b000ehpzv8            emc retrospect 7.5 disk to disk windows   \n",
              "4     b00021xhzw  adobe after effects professional 6.5 upgrade f...   \n",
              "...          ...                                                ...   \n",
              "1243  b000in8mj0                           photostory on cd & dvd 5   \n",
              "1244  b000cs3s2c                 flash remoting 1 alp ret eng cd 2u   \n",
              "1245  b000h1df7w              dragon naturally speaking standard v9   \n",
              "1246  b000p9cr66                                       mediarecover   \n",
              "1247  b000j588g4                                photo explosion 3.0   \n",
              "\n",
              "                                          a_description  a_price  \n",
              "0     oem arcserve backup v11.1 win 30u for laptops ...     0.00  \n",
              "1     peachtree premium accounting for nonprofits 20...   599.99  \n",
              "2     singing coach unlimited - electronic learning ...    99.99  \n",
              "3            emc retrospect 7.5 disk to diskcromwindows     0.00  \n",
              "4     upgrade only; installation of after effects st...   499.99  \n",
              "...                                                 ...      ...  \n",
              "1243  magix photostory on cd and dvd 5 answers the q...    19.99  \n",
              "1244  - marketing information: macromedia flash remo...  3314.09  \n",
              "1245  dragon naturallyspeaking 9 (standard edition) ...    99.99  \n",
              "1246  mediarecover gives you the ability to recover ...    29.99  \n",
              "1247                                photo explosion 3.0    29.99  \n",
              "\n",
              "[1248 rows x 4 columns]"
            ],
            "text/html": [
              "\n",
              "  <div id=\"df-219d3e51-b6b6-461c-9b04-860fa4c82314\">\n",
              "    <div class=\"colab-df-container\">\n",
              "      <div>\n",
              "<style scoped>\n",
              "    .dataframe tbody tr th:only-of-type {\n",
              "        vertical-align: middle;\n",
              "    }\n",
              "\n",
              "    .dataframe tbody tr th {\n",
              "        vertical-align: top;\n",
              "    }\n",
              "\n",
              "    .dataframe thead th {\n",
              "        text-align: right;\n",
              "    }\n",
              "</style>\n",
              "<table border=\"1\" class=\"dataframe\">\n",
              "  <thead>\n",
              "    <tr style=\"text-align: right;\">\n",
              "      <th></th>\n",
              "      <th>a_id</th>\n",
              "      <th>a_title</th>\n",
              "      <th>a_description</th>\n",
              "      <th>a_price</th>\n",
              "    </tr>\n",
              "  </thead>\n",
              "  <tbody>\n",
              "    <tr>\n",
              "      <th>0</th>\n",
              "      <td>b0006zf55o</td>\n",
              "      <td>ca international - arcserve lap/desktop oem 30pk</td>\n",
              "      <td>oem arcserve backup v11.1 win 30u for laptops ...</td>\n",
              "      <td>0.00</td>\n",
              "    </tr>\n",
              "    <tr>\n",
              "      <th>1</th>\n",
              "      <td>b000g80lqo</td>\n",
              "      <td>peachtree by sage premium accounting for nonpr...</td>\n",
              "      <td>peachtree premium accounting for nonprofits 20...</td>\n",
              "      <td>599.99</td>\n",
              "    </tr>\n",
              "    <tr>\n",
              "      <th>2</th>\n",
              "      <td>b0006se5bq</td>\n",
              "      <td>singing coach unlimited</td>\n",
              "      <td>singing coach unlimited - electronic learning ...</td>\n",
              "      <td>99.99</td>\n",
              "    </tr>\n",
              "    <tr>\n",
              "      <th>3</th>\n",
              "      <td>b000ehpzv8</td>\n",
              "      <td>emc retrospect 7.5 disk to disk windows</td>\n",
              "      <td>emc retrospect 7.5 disk to diskcromwindows</td>\n",
              "      <td>0.00</td>\n",
              "    </tr>\n",
              "    <tr>\n",
              "      <th>4</th>\n",
              "      <td>b00021xhzw</td>\n",
              "      <td>adobe after effects professional 6.5 upgrade f...</td>\n",
              "      <td>upgrade only; installation of after effects st...</td>\n",
              "      <td>499.99</td>\n",
              "    </tr>\n",
              "    <tr>\n",
              "      <th>...</th>\n",
              "      <td>...</td>\n",
              "      <td>...</td>\n",
              "      <td>...</td>\n",
              "      <td>...</td>\n",
              "    </tr>\n",
              "    <tr>\n",
              "      <th>1243</th>\n",
              "      <td>b000in8mj0</td>\n",
              "      <td>photostory on cd &amp; dvd 5</td>\n",
              "      <td>magix photostory on cd and dvd 5 answers the q...</td>\n",
              "      <td>19.99</td>\n",
              "    </tr>\n",
              "    <tr>\n",
              "      <th>1244</th>\n",
              "      <td>b000cs3s2c</td>\n",
              "      <td>flash remoting 1 alp ret eng cd 2u</td>\n",
              "      <td>- marketing information: macromedia flash remo...</td>\n",
              "      <td>3314.09</td>\n",
              "    </tr>\n",
              "    <tr>\n",
              "      <th>1245</th>\n",
              "      <td>b000h1df7w</td>\n",
              "      <td>dragon naturally speaking standard v9</td>\n",
              "      <td>dragon naturallyspeaking 9 (standard edition) ...</td>\n",
              "      <td>99.99</td>\n",
              "    </tr>\n",
              "    <tr>\n",
              "      <th>1246</th>\n",
              "      <td>b000p9cr66</td>\n",
              "      <td>mediarecover</td>\n",
              "      <td>mediarecover gives you the ability to recover ...</td>\n",
              "      <td>29.99</td>\n",
              "    </tr>\n",
              "    <tr>\n",
              "      <th>1247</th>\n",
              "      <td>b000j588g4</td>\n",
              "      <td>photo explosion 3.0</td>\n",
              "      <td>photo explosion 3.0</td>\n",
              "      <td>29.99</td>\n",
              "    </tr>\n",
              "  </tbody>\n",
              "</table>\n",
              "<p>1248 rows × 4 columns</p>\n",
              "</div>\n",
              "      <button class=\"colab-df-convert\" onclick=\"convertToInteractive('df-219d3e51-b6b6-461c-9b04-860fa4c82314')\"\n",
              "              title=\"Convert this dataframe to an interactive table.\"\n",
              "              style=\"display:none;\">\n",
              "        \n",
              "  <svg xmlns=\"http://www.w3.org/2000/svg\" height=\"24px\"viewBox=\"0 0 24 24\"\n",
              "       width=\"24px\">\n",
              "    <path d=\"M0 0h24v24H0V0z\" fill=\"none\"/>\n",
              "    <path d=\"M18.56 5.44l.94 2.06.94-2.06 2.06-.94-2.06-.94-.94-2.06-.94 2.06-2.06.94zm-11 1L8.5 8.5l.94-2.06 2.06-.94-2.06-.94L8.5 2.5l-.94 2.06-2.06.94zm10 10l.94 2.06.94-2.06 2.06-.94-2.06-.94-.94-2.06-.94 2.06-2.06.94z\"/><path d=\"M17.41 7.96l-1.37-1.37c-.4-.4-.92-.59-1.43-.59-.52 0-1.04.2-1.43.59L10.3 9.45l-7.72 7.72c-.78.78-.78 2.05 0 2.83L4 21.41c.39.39.9.59 1.41.59.51 0 1.02-.2 1.41-.59l7.78-7.78 2.81-2.81c.8-.78.8-2.07 0-2.86zM5.41 20L4 18.59l7.72-7.72 1.47 1.35L5.41 20z\"/>\n",
              "  </svg>\n",
              "      </button>\n",
              "      \n",
              "  <style>\n",
              "    .colab-df-container {\n",
              "      display:flex;\n",
              "      flex-wrap:wrap;\n",
              "      gap: 12px;\n",
              "    }\n",
              "\n",
              "    .colab-df-convert {\n",
              "      background-color: #E8F0FE;\n",
              "      border: none;\n",
              "      border-radius: 50%;\n",
              "      cursor: pointer;\n",
              "      display: none;\n",
              "      fill: #1967D2;\n",
              "      height: 32px;\n",
              "      padding: 0 0 0 0;\n",
              "      width: 32px;\n",
              "    }\n",
              "\n",
              "    .colab-df-convert:hover {\n",
              "      background-color: #E2EBFA;\n",
              "      box-shadow: 0px 1px 2px rgba(60, 64, 67, 0.3), 0px 1px 3px 1px rgba(60, 64, 67, 0.15);\n",
              "      fill: #174EA6;\n",
              "    }\n",
              "\n",
              "    [theme=dark] .colab-df-convert {\n",
              "      background-color: #3B4455;\n",
              "      fill: #D2E3FC;\n",
              "    }\n",
              "\n",
              "    [theme=dark] .colab-df-convert:hover {\n",
              "      background-color: #434B5C;\n",
              "      box-shadow: 0px 1px 3px 1px rgba(0, 0, 0, 0.15);\n",
              "      filter: drop-shadow(0px 1px 2px rgba(0, 0, 0, 0.3));\n",
              "      fill: #FFFFFF;\n",
              "    }\n",
              "  </style>\n",
              "\n",
              "      <script>\n",
              "        const buttonEl =\n",
              "          document.querySelector('#df-219d3e51-b6b6-461c-9b04-860fa4c82314 button.colab-df-convert');\n",
              "        buttonEl.style.display =\n",
              "          google.colab.kernel.accessAllowed ? 'block' : 'none';\n",
              "\n",
              "        async function convertToInteractive(key) {\n",
              "          const element = document.querySelector('#df-219d3e51-b6b6-461c-9b04-860fa4c82314');\n",
              "          const dataTable =\n",
              "            await google.colab.kernel.invokeFunction('convertToInteractive',\n",
              "                                                     [key], {});\n",
              "          if (!dataTable) return;\n",
              "\n",
              "          const docLinkHtml = 'Like what you see? Visit the ' +\n",
              "            '<a target=\"_blank\" href=https://colab.research.google.com/notebooks/data_table.ipynb>data table notebook</a>'\n",
              "            + ' to learn more about interactive tables.';\n",
              "          element.innerHTML = '';\n",
              "          dataTable['output_type'] = 'display_data';\n",
              "          await google.colab.output.renderOutput(dataTable, element);\n",
              "          const docLink = document.createElement('div');\n",
              "          docLink.innerHTML = docLinkHtml;\n",
              "          element.appendChild(docLink);\n",
              "        }\n",
              "      </script>\n",
              "    </div>\n",
              "  </div>\n",
              "  "
            ]
          },
          "metadata": {},
          "execution_count": 4
        }
      ],
      "source": [
        "am"
      ],
      "id": "c47d448e"
    },
    {
      "cell_type": "code",
      "execution_count": 5,
      "metadata": {
        "colab": {
          "base_uri": "https://localhost:8080/",
          "height": 424
        },
        "id": "1aad4938",
        "outputId": "d73ee9bf-5732-49bd-fb72-a9efa8fa5adc"
      },
      "outputs": [
        {
          "output_type": "execute_result",
          "data": {
            "text/plain": [
              "                                                   g_id  \\\n",
              "0     http://www.google.com/base/feeds/snippets/1112...   \n",
              "1     http://www.google.com/base/feeds/snippets/1153...   \n",
              "2     http://www.google.com/base/feeds/snippets/1134...   \n",
              "3     http://www.google.com/base/feeds/snippets/1204...   \n",
              "4     http://www.google.com/base/feeds/snippets/1224...   \n",
              "...                                                 ...   \n",
              "3030  http://www.google.com/base/feeds/snippets/1487...   \n",
              "3031  http://www.google.com/base/feeds/snippets/1491...   \n",
              "3032  http://www.google.com/base/feeds/snippets/1497...   \n",
              "3033  http://www.google.com/base/feeds/snippets/1498...   \n",
              "3034  http://www.google.com/base/feeds/snippets/1499...   \n",
              "\n",
              "                                               g_ititle  \\\n",
              "0                              learning quickbooks 2007   \n",
              "1               superstart! fun with reading & writing!   \n",
              "2                             qb pos 6.0 basic software   \n",
              "3     math missions: the amazing arcade adventure (g...   \n",
              "4                        production prem cs3 mac upgrad   \n",
              "...                                                 ...   \n",
              "3030                    jumpstart(r) advanced 1st grade   \n",
              "3031             ibm(r) viavoice(r) advanced edition 10   \n",
              "3032                             xbox 360: gears of war   \n",
              "3033                        documents to go premium 7.0   \n",
              "3034     microsoft(r) picture it! digital image pro 9.0   \n",
              "\n",
              "                                          g_description g_price  \n",
              "0                              learning quickbooks 2007   38.99  \n",
              "1     fun with reading & writing! is designed to hel...    8.49  \n",
              "2     qb pos 6.0 basic retail mngmt software. for re...  637.99  \n",
              "3     save spectacle city by disrupting randall unde...   12.95  \n",
              "4     adobe cs3 production premium mac upgrade from ...  805.99  \n",
              "...                                                 ...     ...  \n",
              "3030  prepare your child for the 1st grade and beyon...   19.99  \n",
              "3031  ibm viavoice advanced edition release 10 is a ...   78.95  \n",
              "3032  as marcus fenix you fight a war against the im...   59.99  \n",
              "3033  this pda software enables you to use your docu...   49.99  \n",
              "3034  picture it! digital image pro puts you in cont...   99.87  \n",
              "\n",
              "[3035 rows x 4 columns]"
            ],
            "text/html": [
              "\n",
              "  <div id=\"df-53918e13-c56d-4352-93f6-92d57bec9f46\">\n",
              "    <div class=\"colab-df-container\">\n",
              "      <div>\n",
              "<style scoped>\n",
              "    .dataframe tbody tr th:only-of-type {\n",
              "        vertical-align: middle;\n",
              "    }\n",
              "\n",
              "    .dataframe tbody tr th {\n",
              "        vertical-align: top;\n",
              "    }\n",
              "\n",
              "    .dataframe thead th {\n",
              "        text-align: right;\n",
              "    }\n",
              "</style>\n",
              "<table border=\"1\" class=\"dataframe\">\n",
              "  <thead>\n",
              "    <tr style=\"text-align: right;\">\n",
              "      <th></th>\n",
              "      <th>g_id</th>\n",
              "      <th>g_ititle</th>\n",
              "      <th>g_description</th>\n",
              "      <th>g_price</th>\n",
              "    </tr>\n",
              "  </thead>\n",
              "  <tbody>\n",
              "    <tr>\n",
              "      <th>0</th>\n",
              "      <td>http://www.google.com/base/feeds/snippets/1112...</td>\n",
              "      <td>learning quickbooks 2007</td>\n",
              "      <td>learning quickbooks 2007</td>\n",
              "      <td>38.99</td>\n",
              "    </tr>\n",
              "    <tr>\n",
              "      <th>1</th>\n",
              "      <td>http://www.google.com/base/feeds/snippets/1153...</td>\n",
              "      <td>superstart! fun with reading &amp; writing!</td>\n",
              "      <td>fun with reading &amp; writing! is designed to hel...</td>\n",
              "      <td>8.49</td>\n",
              "    </tr>\n",
              "    <tr>\n",
              "      <th>2</th>\n",
              "      <td>http://www.google.com/base/feeds/snippets/1134...</td>\n",
              "      <td>qb pos 6.0 basic software</td>\n",
              "      <td>qb pos 6.0 basic retail mngmt software. for re...</td>\n",
              "      <td>637.99</td>\n",
              "    </tr>\n",
              "    <tr>\n",
              "      <th>3</th>\n",
              "      <td>http://www.google.com/base/feeds/snippets/1204...</td>\n",
              "      <td>math missions: the amazing arcade adventure (g...</td>\n",
              "      <td>save spectacle city by disrupting randall unde...</td>\n",
              "      <td>12.95</td>\n",
              "    </tr>\n",
              "    <tr>\n",
              "      <th>4</th>\n",
              "      <td>http://www.google.com/base/feeds/snippets/1224...</td>\n",
              "      <td>production prem cs3 mac upgrad</td>\n",
              "      <td>adobe cs3 production premium mac upgrade from ...</td>\n",
              "      <td>805.99</td>\n",
              "    </tr>\n",
              "    <tr>\n",
              "      <th>...</th>\n",
              "      <td>...</td>\n",
              "      <td>...</td>\n",
              "      <td>...</td>\n",
              "      <td>...</td>\n",
              "    </tr>\n",
              "    <tr>\n",
              "      <th>3030</th>\n",
              "      <td>http://www.google.com/base/feeds/snippets/1487...</td>\n",
              "      <td>jumpstart(r) advanced 1st grade</td>\n",
              "      <td>prepare your child for the 1st grade and beyon...</td>\n",
              "      <td>19.99</td>\n",
              "    </tr>\n",
              "    <tr>\n",
              "      <th>3031</th>\n",
              "      <td>http://www.google.com/base/feeds/snippets/1491...</td>\n",
              "      <td>ibm(r) viavoice(r) advanced edition 10</td>\n",
              "      <td>ibm viavoice advanced edition release 10 is a ...</td>\n",
              "      <td>78.95</td>\n",
              "    </tr>\n",
              "    <tr>\n",
              "      <th>3032</th>\n",
              "      <td>http://www.google.com/base/feeds/snippets/1497...</td>\n",
              "      <td>xbox 360: gears of war</td>\n",
              "      <td>as marcus fenix you fight a war against the im...</td>\n",
              "      <td>59.99</td>\n",
              "    </tr>\n",
              "    <tr>\n",
              "      <th>3033</th>\n",
              "      <td>http://www.google.com/base/feeds/snippets/1498...</td>\n",
              "      <td>documents to go premium 7.0</td>\n",
              "      <td>this pda software enables you to use your docu...</td>\n",
              "      <td>49.99</td>\n",
              "    </tr>\n",
              "    <tr>\n",
              "      <th>3034</th>\n",
              "      <td>http://www.google.com/base/feeds/snippets/1499...</td>\n",
              "      <td>microsoft(r) picture it! digital image pro 9.0</td>\n",
              "      <td>picture it! digital image pro puts you in cont...</td>\n",
              "      <td>99.87</td>\n",
              "    </tr>\n",
              "  </tbody>\n",
              "</table>\n",
              "<p>3035 rows × 4 columns</p>\n",
              "</div>\n",
              "      <button class=\"colab-df-convert\" onclick=\"convertToInteractive('df-53918e13-c56d-4352-93f6-92d57bec9f46')\"\n",
              "              title=\"Convert this dataframe to an interactive table.\"\n",
              "              style=\"display:none;\">\n",
              "        \n",
              "  <svg xmlns=\"http://www.w3.org/2000/svg\" height=\"24px\"viewBox=\"0 0 24 24\"\n",
              "       width=\"24px\">\n",
              "    <path d=\"M0 0h24v24H0V0z\" fill=\"none\"/>\n",
              "    <path d=\"M18.56 5.44l.94 2.06.94-2.06 2.06-.94-2.06-.94-.94-2.06-.94 2.06-2.06.94zm-11 1L8.5 8.5l.94-2.06 2.06-.94-2.06-.94L8.5 2.5l-.94 2.06-2.06.94zm10 10l.94 2.06.94-2.06 2.06-.94-2.06-.94-.94-2.06-.94 2.06-2.06.94z\"/><path d=\"M17.41 7.96l-1.37-1.37c-.4-.4-.92-.59-1.43-.59-.52 0-1.04.2-1.43.59L10.3 9.45l-7.72 7.72c-.78.78-.78 2.05 0 2.83L4 21.41c.39.39.9.59 1.41.59.51 0 1.02-.2 1.41-.59l7.78-7.78 2.81-2.81c.8-.78.8-2.07 0-2.86zM5.41 20L4 18.59l7.72-7.72 1.47 1.35L5.41 20z\"/>\n",
              "  </svg>\n",
              "      </button>\n",
              "      \n",
              "  <style>\n",
              "    .colab-df-container {\n",
              "      display:flex;\n",
              "      flex-wrap:wrap;\n",
              "      gap: 12px;\n",
              "    }\n",
              "\n",
              "    .colab-df-convert {\n",
              "      background-color: #E8F0FE;\n",
              "      border: none;\n",
              "      border-radius: 50%;\n",
              "      cursor: pointer;\n",
              "      display: none;\n",
              "      fill: #1967D2;\n",
              "      height: 32px;\n",
              "      padding: 0 0 0 0;\n",
              "      width: 32px;\n",
              "    }\n",
              "\n",
              "    .colab-df-convert:hover {\n",
              "      background-color: #E2EBFA;\n",
              "      box-shadow: 0px 1px 2px rgba(60, 64, 67, 0.3), 0px 1px 3px 1px rgba(60, 64, 67, 0.15);\n",
              "      fill: #174EA6;\n",
              "    }\n",
              "\n",
              "    [theme=dark] .colab-df-convert {\n",
              "      background-color: #3B4455;\n",
              "      fill: #D2E3FC;\n",
              "    }\n",
              "\n",
              "    [theme=dark] .colab-df-convert:hover {\n",
              "      background-color: #434B5C;\n",
              "      box-shadow: 0px 1px 3px 1px rgba(0, 0, 0, 0.15);\n",
              "      filter: drop-shadow(0px 1px 2px rgba(0, 0, 0, 0.3));\n",
              "      fill: #FFFFFF;\n",
              "    }\n",
              "  </style>\n",
              "\n",
              "      <script>\n",
              "        const buttonEl =\n",
              "          document.querySelector('#df-53918e13-c56d-4352-93f6-92d57bec9f46 button.colab-df-convert');\n",
              "        buttonEl.style.display =\n",
              "          google.colab.kernel.accessAllowed ? 'block' : 'none';\n",
              "\n",
              "        async function convertToInteractive(key) {\n",
              "          const element = document.querySelector('#df-53918e13-c56d-4352-93f6-92d57bec9f46');\n",
              "          const dataTable =\n",
              "            await google.colab.kernel.invokeFunction('convertToInteractive',\n",
              "                                                     [key], {});\n",
              "          if (!dataTable) return;\n",
              "\n",
              "          const docLinkHtml = 'Like what you see? Visit the ' +\n",
              "            '<a target=\"_blank\" href=https://colab.research.google.com/notebooks/data_table.ipynb>data table notebook</a>'\n",
              "            + ' to learn more about interactive tables.';\n",
              "          element.innerHTML = '';\n",
              "          dataTable['output_type'] = 'display_data';\n",
              "          await google.colab.output.renderOutput(dataTable, element);\n",
              "          const docLink = document.createElement('div');\n",
              "          docLink.innerHTML = docLinkHtml;\n",
              "          element.appendChild(docLink);\n",
              "        }\n",
              "      </script>\n",
              "    </div>\n",
              "  </div>\n",
              "  "
            ]
          },
          "metadata": {},
          "execution_count": 5
        }
      ],
      "source": [
        "go"
      ],
      "id": "1aad4938"
    },
    {
      "cell_type": "code",
      "execution_count": 6,
      "metadata": {
        "colab": {
          "base_uri": "https://localhost:8080/",
          "height": 424
        },
        "id": "2e03c9f4",
        "outputId": "5b4b4c50-36b4-4b55-c152-94c0973e2d5b"
      },
      "outputs": [
        {
          "output_type": "execute_result",
          "data": {
            "text/plain": [
              "        idAmazon                                       idGoogleBase\n",
              "0     b000jz4hqo  http://www.google.com/base/feeds/snippets/1844...\n",
              "1     b00004tkvy  http://www.google.com/base/feeds/snippets/1844...\n",
              "2     b000g80lqo  http://www.google.com/base/feeds/snippets/1844...\n",
              "3     b0006se5bq  http://www.google.com/base/feeds/snippets/1842...\n",
              "4     b00021xhzw  http://www.google.com/base/feeds/snippets/1843...\n",
              "...          ...                                                ...\n",
              "1295  b00005bigp  http://www.google.com/base/feeds/snippets/1773...\n",
              "1296  b000h1df7w  http://www.google.com/base/feeds/snippets/1773...\n",
              "1297  b000p9cr66  http://www.google.com/base/feeds/snippets/1772...\n",
              "1298  b000p9cr66  http://www.google.com/base/feeds/snippets/1321...\n",
              "1299  b000j588g4  http://www.google.com/base/feeds/snippets/1773...\n",
              "\n",
              "[1300 rows x 2 columns]"
            ],
            "text/html": [
              "\n",
              "  <div id=\"df-5909850b-3297-42f4-9b8a-2e382f2959f1\">\n",
              "    <div class=\"colab-df-container\">\n",
              "      <div>\n",
              "<style scoped>\n",
              "    .dataframe tbody tr th:only-of-type {\n",
              "        vertical-align: middle;\n",
              "    }\n",
              "\n",
              "    .dataframe tbody tr th {\n",
              "        vertical-align: top;\n",
              "    }\n",
              "\n",
              "    .dataframe thead th {\n",
              "        text-align: right;\n",
              "    }\n",
              "</style>\n",
              "<table border=\"1\" class=\"dataframe\">\n",
              "  <thead>\n",
              "    <tr style=\"text-align: right;\">\n",
              "      <th></th>\n",
              "      <th>idAmazon</th>\n",
              "      <th>idGoogleBase</th>\n",
              "    </tr>\n",
              "  </thead>\n",
              "  <tbody>\n",
              "    <tr>\n",
              "      <th>0</th>\n",
              "      <td>b000jz4hqo</td>\n",
              "      <td>http://www.google.com/base/feeds/snippets/1844...</td>\n",
              "    </tr>\n",
              "    <tr>\n",
              "      <th>1</th>\n",
              "      <td>b00004tkvy</td>\n",
              "      <td>http://www.google.com/base/feeds/snippets/1844...</td>\n",
              "    </tr>\n",
              "    <tr>\n",
              "      <th>2</th>\n",
              "      <td>b000g80lqo</td>\n",
              "      <td>http://www.google.com/base/feeds/snippets/1844...</td>\n",
              "    </tr>\n",
              "    <tr>\n",
              "      <th>3</th>\n",
              "      <td>b0006se5bq</td>\n",
              "      <td>http://www.google.com/base/feeds/snippets/1842...</td>\n",
              "    </tr>\n",
              "    <tr>\n",
              "      <th>4</th>\n",
              "      <td>b00021xhzw</td>\n",
              "      <td>http://www.google.com/base/feeds/snippets/1843...</td>\n",
              "    </tr>\n",
              "    <tr>\n",
              "      <th>...</th>\n",
              "      <td>...</td>\n",
              "      <td>...</td>\n",
              "    </tr>\n",
              "    <tr>\n",
              "      <th>1295</th>\n",
              "      <td>b00005bigp</td>\n",
              "      <td>http://www.google.com/base/feeds/snippets/1773...</td>\n",
              "    </tr>\n",
              "    <tr>\n",
              "      <th>1296</th>\n",
              "      <td>b000h1df7w</td>\n",
              "      <td>http://www.google.com/base/feeds/snippets/1773...</td>\n",
              "    </tr>\n",
              "    <tr>\n",
              "      <th>1297</th>\n",
              "      <td>b000p9cr66</td>\n",
              "      <td>http://www.google.com/base/feeds/snippets/1772...</td>\n",
              "    </tr>\n",
              "    <tr>\n",
              "      <th>1298</th>\n",
              "      <td>b000p9cr66</td>\n",
              "      <td>http://www.google.com/base/feeds/snippets/1321...</td>\n",
              "    </tr>\n",
              "    <tr>\n",
              "      <th>1299</th>\n",
              "      <td>b000j588g4</td>\n",
              "      <td>http://www.google.com/base/feeds/snippets/1773...</td>\n",
              "    </tr>\n",
              "  </tbody>\n",
              "</table>\n",
              "<p>1300 rows × 2 columns</p>\n",
              "</div>\n",
              "      <button class=\"colab-df-convert\" onclick=\"convertToInteractive('df-5909850b-3297-42f4-9b8a-2e382f2959f1')\"\n",
              "              title=\"Convert this dataframe to an interactive table.\"\n",
              "              style=\"display:none;\">\n",
              "        \n",
              "  <svg xmlns=\"http://www.w3.org/2000/svg\" height=\"24px\"viewBox=\"0 0 24 24\"\n",
              "       width=\"24px\">\n",
              "    <path d=\"M0 0h24v24H0V0z\" fill=\"none\"/>\n",
              "    <path d=\"M18.56 5.44l.94 2.06.94-2.06 2.06-.94-2.06-.94-.94-2.06-.94 2.06-2.06.94zm-11 1L8.5 8.5l.94-2.06 2.06-.94-2.06-.94L8.5 2.5l-.94 2.06-2.06.94zm10 10l.94 2.06.94-2.06 2.06-.94-2.06-.94-.94-2.06-.94 2.06-2.06.94z\"/><path d=\"M17.41 7.96l-1.37-1.37c-.4-.4-.92-.59-1.43-.59-.52 0-1.04.2-1.43.59L10.3 9.45l-7.72 7.72c-.78.78-.78 2.05 0 2.83L4 21.41c.39.39.9.59 1.41.59.51 0 1.02-.2 1.41-.59l7.78-7.78 2.81-2.81c.8-.78.8-2.07 0-2.86zM5.41 20L4 18.59l7.72-7.72 1.47 1.35L5.41 20z\"/>\n",
              "  </svg>\n",
              "      </button>\n",
              "      \n",
              "  <style>\n",
              "    .colab-df-container {\n",
              "      display:flex;\n",
              "      flex-wrap:wrap;\n",
              "      gap: 12px;\n",
              "    }\n",
              "\n",
              "    .colab-df-convert {\n",
              "      background-color: #E8F0FE;\n",
              "      border: none;\n",
              "      border-radius: 50%;\n",
              "      cursor: pointer;\n",
              "      display: none;\n",
              "      fill: #1967D2;\n",
              "      height: 32px;\n",
              "      padding: 0 0 0 0;\n",
              "      width: 32px;\n",
              "    }\n",
              "\n",
              "    .colab-df-convert:hover {\n",
              "      background-color: #E2EBFA;\n",
              "      box-shadow: 0px 1px 2px rgba(60, 64, 67, 0.3), 0px 1px 3px 1px rgba(60, 64, 67, 0.15);\n",
              "      fill: #174EA6;\n",
              "    }\n",
              "\n",
              "    [theme=dark] .colab-df-convert {\n",
              "      background-color: #3B4455;\n",
              "      fill: #D2E3FC;\n",
              "    }\n",
              "\n",
              "    [theme=dark] .colab-df-convert:hover {\n",
              "      background-color: #434B5C;\n",
              "      box-shadow: 0px 1px 3px 1px rgba(0, 0, 0, 0.15);\n",
              "      filter: drop-shadow(0px 1px 2px rgba(0, 0, 0, 0.3));\n",
              "      fill: #FFFFFF;\n",
              "    }\n",
              "  </style>\n",
              "\n",
              "      <script>\n",
              "        const buttonEl =\n",
              "          document.querySelector('#df-5909850b-3297-42f4-9b8a-2e382f2959f1 button.colab-df-convert');\n",
              "        buttonEl.style.display =\n",
              "          google.colab.kernel.accessAllowed ? 'block' : 'none';\n",
              "\n",
              "        async function convertToInteractive(key) {\n",
              "          const element = document.querySelector('#df-5909850b-3297-42f4-9b8a-2e382f2959f1');\n",
              "          const dataTable =\n",
              "            await google.colab.kernel.invokeFunction('convertToInteractive',\n",
              "                                                     [key], {});\n",
              "          if (!dataTable) return;\n",
              "\n",
              "          const docLinkHtml = 'Like what you see? Visit the ' +\n",
              "            '<a target=\"_blank\" href=https://colab.research.google.com/notebooks/data_table.ipynb>data table notebook</a>'\n",
              "            + ' to learn more about interactive tables.';\n",
              "          element.innerHTML = '';\n",
              "          dataTable['output_type'] = 'display_data';\n",
              "          await google.colab.output.renderOutput(dataTable, element);\n",
              "          const docLink = document.createElement('div');\n",
              "          docLink.innerHTML = docLinkHtml;\n",
              "          element.appendChild(docLink);\n",
              "        }\n",
              "      </script>\n",
              "    </div>\n",
              "  </div>\n",
              "  "
            ]
          },
          "metadata": {},
          "execution_count": 6
        }
      ],
      "source": [
        "match"
      ],
      "id": "2e03c9f4"
    },
    {
      "cell_type": "markdown",
      "metadata": {
        "id": "j4G2FmHjCmXt"
      },
      "source": [
        "## **Data Cleaning**"
      ],
      "id": "j4G2FmHjCmXt"
    },
    {
      "cell_type": "code",
      "execution_count": 7,
      "metadata": {
        "id": "ad7cdee5"
      },
      "outputs": [],
      "source": [
        "#am\n",
        "newam = pd.DataFrame(np.repeat(am.values, len(go), axis=0))\n",
        "newam.columns = am.columns\n",
        "#go\n",
        "newgo = pd.concat([go[:len(go)]]*len(am), ignore_index=True)\n",
        "# adding newam and newgo along columns\n",
        "res = [newam, newgo]\n",
        "df = pd.concat(res, axis=1)"
      ],
      "id": "ad7cdee5"
    },
    {
      "cell_type": "code",
      "execution_count": 8,
      "metadata": {
        "colab": {
          "base_uri": "https://localhost:8080/"
        },
        "id": "4552fbd6",
        "outputId": "8b913964-7c48-4b88-ce3a-fc8b0427216a"
      },
      "outputs": [
        {
          "output_type": "stream",
          "name": "stdout",
          "text": [
            "a_id              string\n",
            "a_title           string\n",
            "a_description     string\n",
            "a_price          Float64\n",
            "g_id              string\n",
            "g_ititle          string\n",
            "g_description     string\n",
            "g_price           string\n",
            "dtype: object\n"
          ]
        }
      ],
      "source": [
        "# Converting to proper datatypes by default \n",
        "df = df.convert_dtypes()\n",
        "print(df.dtypes)"
      ],
      "id": "4552fbd6"
    },
    {
      "cell_type": "code",
      "execution_count": 9,
      "metadata": {
        "id": "c94ec2d4"
      },
      "outputs": [],
      "source": [
        "a_list = df['a_id'].tolist()\n",
        "g_list = df['g_id'].tolist()\n",
        "# Function to merge two lists pair wise\n",
        "def merge(list1, list2):\n",
        "    merged_list = [[list1[i], list2[i]] for i in range(0, len(list1))]\n",
        "    return merged_list\n",
        "x = merge(a_list,g_list)\n",
        "ad = match['idAmazon'].tolist()\n",
        "gd = match['idGoogleBase'].tolist()\n",
        "y = merge(ad,gd)\n",
        "def find(lst1,lst2):\n",
        "    result = []\n",
        "    for i in tqdm(range(len(lst1))):\n",
        "        for j in range(len(lst2)):\n",
        "            if lst1[i]==lst2[j]:\n",
        "                result.append(i)\n",
        "            \n",
        "    return result"
      ],
      "id": "c94ec2d4"
    },
    {
      "cell_type": "code",
      "source": [
        "def find_1(lst1,lst2):\n",
        "    result = [i for i in tqdm(range(len(lst1))) for j in range(len(lst2)) if lst1[i]==lst2[j]]\n",
        "    return result"
      ],
      "metadata": {
        "id": "M1aepywsYqyK"
      },
      "id": "M1aepywsYqyK",
      "execution_count": 10,
      "outputs": []
    },
    {
      "cell_type": "code",
      "source": [
        "# l = find_1(x,y)"
      ],
      "metadata": {
        "id": "GkqHb014YtPG"
      },
      "id": "GkqHb014YtPG",
      "execution_count": 11,
      "outputs": []
    },
    {
      "cell_type": "code",
      "execution_count": 12,
      "metadata": {
        "colab": {
          "base_uri": "https://localhost:8080/"
        },
        "id": "b9efc8b4",
        "outputId": "ac940908-91ff-45b7-c815-94ee4ba3dda9"
      },
      "outputs": [
        {
          "output_type": "stream",
          "name": "stderr",
          "text": [
            "100%|██████████| 3787680/3787680 [08:58<00:00, 7037.61it/s]\n"
          ]
        }
      ],
      "source": [
        "l = find(x,y)"
      ],
      "id": "b9efc8b4"
    },
    {
      "cell_type": "code",
      "execution_count": 13,
      "metadata": {
        "id": "6dd3255c",
        "colab": {
          "base_uri": "https://localhost:8080/"
        },
        "outputId": "a719c5dd-c698-4b2f-e9c8-1699e4f4e2bd"
      },
      "outputs": [
        {
          "output_type": "stream",
          "name": "stderr",
          "text": [
            "100%|██████████| 1161/1161 [00:00<00:00, 1185.66it/s]\n",
            "100%|██████████| 1161/1161 [00:01<00:00, 722.18it/s]\n"
          ]
        }
      ],
      "source": [
        "list_of_zeros = [0] * len(df)\n",
        "for i in tqdm(range(len(l))):\n",
        "    list_of_zeros.pop(l[i])\n",
        "list_of_zeros\n",
        "for i in tqdm(range(len(l))):\n",
        "    list_of_zeros.insert(l[i],1)\n",
        "df['match'] = list_of_zeros"
      ],
      "id": "6dd3255c"
    },
    {
      "cell_type": "code",
      "source": [
        "df"
      ],
      "metadata": {
        "colab": {
          "base_uri": "https://localhost:8080/",
          "height": 867
        },
        "id": "vkkLdd8i0pLv",
        "outputId": "9b503b67-117f-4b2f-e1fa-46a8d73fbc5f"
      },
      "id": "vkkLdd8i0pLv",
      "execution_count": 14,
      "outputs": [
        {
          "output_type": "execute_result",
          "data": {
            "text/plain": [
              "               a_id                                           a_title  \\\n",
              "0        b0006zf55o  ca international - arcserve lap/desktop oem 30pk   \n",
              "1        b0006zf55o  ca international - arcserve lap/desktop oem 30pk   \n",
              "2        b0006zf55o  ca international - arcserve lap/desktop oem 30pk   \n",
              "3        b0006zf55o  ca international - arcserve lap/desktop oem 30pk   \n",
              "4        b0006zf55o  ca international - arcserve lap/desktop oem 30pk   \n",
              "...             ...                                               ...   \n",
              "3787675  b000j588g4                               photo explosion 3.0   \n",
              "3787676  b000j588g4                               photo explosion 3.0   \n",
              "3787677  b000j588g4                               photo explosion 3.0   \n",
              "3787678  b000j588g4                               photo explosion 3.0   \n",
              "3787679  b000j588g4                               photo explosion 3.0   \n",
              "\n",
              "                                             a_description  a_price  \\\n",
              "0        oem arcserve backup v11.1 win 30u for laptops ...      0.0   \n",
              "1        oem arcserve backup v11.1 win 30u for laptops ...      0.0   \n",
              "2        oem arcserve backup v11.1 win 30u for laptops ...      0.0   \n",
              "3        oem arcserve backup v11.1 win 30u for laptops ...      0.0   \n",
              "4        oem arcserve backup v11.1 win 30u for laptops ...      0.0   \n",
              "...                                                    ...      ...   \n",
              "3787675                                photo explosion 3.0    29.99   \n",
              "3787676                                photo explosion 3.0    29.99   \n",
              "3787677                                photo explosion 3.0    29.99   \n",
              "3787678                                photo explosion 3.0    29.99   \n",
              "3787679                                photo explosion 3.0    29.99   \n",
              "\n",
              "                                                      g_id  \\\n",
              "0        http://www.google.com/base/feeds/snippets/1112...   \n",
              "1        http://www.google.com/base/feeds/snippets/1153...   \n",
              "2        http://www.google.com/base/feeds/snippets/1134...   \n",
              "3        http://www.google.com/base/feeds/snippets/1204...   \n",
              "4        http://www.google.com/base/feeds/snippets/1224...   \n",
              "...                                                    ...   \n",
              "3787675  http://www.google.com/base/feeds/snippets/1487...   \n",
              "3787676  http://www.google.com/base/feeds/snippets/1491...   \n",
              "3787677  http://www.google.com/base/feeds/snippets/1497...   \n",
              "3787678  http://www.google.com/base/feeds/snippets/1498...   \n",
              "3787679  http://www.google.com/base/feeds/snippets/1499...   \n",
              "\n",
              "                                                  g_ititle  \\\n",
              "0                                 learning quickbooks 2007   \n",
              "1                  superstart! fun with reading & writing!   \n",
              "2                                qb pos 6.0 basic software   \n",
              "3        math missions: the amazing arcade adventure (g...   \n",
              "4                           production prem cs3 mac upgrad   \n",
              "...                                                    ...   \n",
              "3787675                    jumpstart(r) advanced 1st grade   \n",
              "3787676             ibm(r) viavoice(r) advanced edition 10   \n",
              "3787677                             xbox 360: gears of war   \n",
              "3787678                        documents to go premium 7.0   \n",
              "3787679     microsoft(r) picture it! digital image pro 9.0   \n",
              "\n",
              "                                             g_description g_price  match  \n",
              "0                                 learning quickbooks 2007   38.99      0  \n",
              "1        fun with reading & writing! is designed to hel...    8.49      0  \n",
              "2        qb pos 6.0 basic retail mngmt software. for re...  637.99      0  \n",
              "3        save spectacle city by disrupting randall unde...   12.95      0  \n",
              "4        adobe cs3 production premium mac upgrade from ...  805.99      0  \n",
              "...                                                    ...     ...    ...  \n",
              "3787675  prepare your child for the 1st grade and beyon...   19.99      0  \n",
              "3787676  ibm viavoice advanced edition release 10 is a ...   78.95      0  \n",
              "3787677  as marcus fenix you fight a war against the im...   59.99      0  \n",
              "3787678  this pda software enables you to use your docu...   49.99      0  \n",
              "3787679  picture it! digital image pro puts you in cont...   99.87      0  \n",
              "\n",
              "[3787680 rows x 9 columns]"
            ],
            "text/html": [
              "\n",
              "  <div id=\"df-a47059bd-de2b-4428-87c4-c631ff2d3119\">\n",
              "    <div class=\"colab-df-container\">\n",
              "      <div>\n",
              "<style scoped>\n",
              "    .dataframe tbody tr th:only-of-type {\n",
              "        vertical-align: middle;\n",
              "    }\n",
              "\n",
              "    .dataframe tbody tr th {\n",
              "        vertical-align: top;\n",
              "    }\n",
              "\n",
              "    .dataframe thead th {\n",
              "        text-align: right;\n",
              "    }\n",
              "</style>\n",
              "<table border=\"1\" class=\"dataframe\">\n",
              "  <thead>\n",
              "    <tr style=\"text-align: right;\">\n",
              "      <th></th>\n",
              "      <th>a_id</th>\n",
              "      <th>a_title</th>\n",
              "      <th>a_description</th>\n",
              "      <th>a_price</th>\n",
              "      <th>g_id</th>\n",
              "      <th>g_ititle</th>\n",
              "      <th>g_description</th>\n",
              "      <th>g_price</th>\n",
              "      <th>match</th>\n",
              "    </tr>\n",
              "  </thead>\n",
              "  <tbody>\n",
              "    <tr>\n",
              "      <th>0</th>\n",
              "      <td>b0006zf55o</td>\n",
              "      <td>ca international - arcserve lap/desktop oem 30pk</td>\n",
              "      <td>oem arcserve backup v11.1 win 30u for laptops ...</td>\n",
              "      <td>0.0</td>\n",
              "      <td>http://www.google.com/base/feeds/snippets/1112...</td>\n",
              "      <td>learning quickbooks 2007</td>\n",
              "      <td>learning quickbooks 2007</td>\n",
              "      <td>38.99</td>\n",
              "      <td>0</td>\n",
              "    </tr>\n",
              "    <tr>\n",
              "      <th>1</th>\n",
              "      <td>b0006zf55o</td>\n",
              "      <td>ca international - arcserve lap/desktop oem 30pk</td>\n",
              "      <td>oem arcserve backup v11.1 win 30u for laptops ...</td>\n",
              "      <td>0.0</td>\n",
              "      <td>http://www.google.com/base/feeds/snippets/1153...</td>\n",
              "      <td>superstart! fun with reading &amp; writing!</td>\n",
              "      <td>fun with reading &amp; writing! is designed to hel...</td>\n",
              "      <td>8.49</td>\n",
              "      <td>0</td>\n",
              "    </tr>\n",
              "    <tr>\n",
              "      <th>2</th>\n",
              "      <td>b0006zf55o</td>\n",
              "      <td>ca international - arcserve lap/desktop oem 30pk</td>\n",
              "      <td>oem arcserve backup v11.1 win 30u for laptops ...</td>\n",
              "      <td>0.0</td>\n",
              "      <td>http://www.google.com/base/feeds/snippets/1134...</td>\n",
              "      <td>qb pos 6.0 basic software</td>\n",
              "      <td>qb pos 6.0 basic retail mngmt software. for re...</td>\n",
              "      <td>637.99</td>\n",
              "      <td>0</td>\n",
              "    </tr>\n",
              "    <tr>\n",
              "      <th>3</th>\n",
              "      <td>b0006zf55o</td>\n",
              "      <td>ca international - arcserve lap/desktop oem 30pk</td>\n",
              "      <td>oem arcserve backup v11.1 win 30u for laptops ...</td>\n",
              "      <td>0.0</td>\n",
              "      <td>http://www.google.com/base/feeds/snippets/1204...</td>\n",
              "      <td>math missions: the amazing arcade adventure (g...</td>\n",
              "      <td>save spectacle city by disrupting randall unde...</td>\n",
              "      <td>12.95</td>\n",
              "      <td>0</td>\n",
              "    </tr>\n",
              "    <tr>\n",
              "      <th>4</th>\n",
              "      <td>b0006zf55o</td>\n",
              "      <td>ca international - arcserve lap/desktop oem 30pk</td>\n",
              "      <td>oem arcserve backup v11.1 win 30u for laptops ...</td>\n",
              "      <td>0.0</td>\n",
              "      <td>http://www.google.com/base/feeds/snippets/1224...</td>\n",
              "      <td>production prem cs3 mac upgrad</td>\n",
              "      <td>adobe cs3 production premium mac upgrade from ...</td>\n",
              "      <td>805.99</td>\n",
              "      <td>0</td>\n",
              "    </tr>\n",
              "    <tr>\n",
              "      <th>...</th>\n",
              "      <td>...</td>\n",
              "      <td>...</td>\n",
              "      <td>...</td>\n",
              "      <td>...</td>\n",
              "      <td>...</td>\n",
              "      <td>...</td>\n",
              "      <td>...</td>\n",
              "      <td>...</td>\n",
              "      <td>...</td>\n",
              "    </tr>\n",
              "    <tr>\n",
              "      <th>3787675</th>\n",
              "      <td>b000j588g4</td>\n",
              "      <td>photo explosion 3.0</td>\n",
              "      <td>photo explosion 3.0</td>\n",
              "      <td>29.99</td>\n",
              "      <td>http://www.google.com/base/feeds/snippets/1487...</td>\n",
              "      <td>jumpstart(r) advanced 1st grade</td>\n",
              "      <td>prepare your child for the 1st grade and beyon...</td>\n",
              "      <td>19.99</td>\n",
              "      <td>0</td>\n",
              "    </tr>\n",
              "    <tr>\n",
              "      <th>3787676</th>\n",
              "      <td>b000j588g4</td>\n",
              "      <td>photo explosion 3.0</td>\n",
              "      <td>photo explosion 3.0</td>\n",
              "      <td>29.99</td>\n",
              "      <td>http://www.google.com/base/feeds/snippets/1491...</td>\n",
              "      <td>ibm(r) viavoice(r) advanced edition 10</td>\n",
              "      <td>ibm viavoice advanced edition release 10 is a ...</td>\n",
              "      <td>78.95</td>\n",
              "      <td>0</td>\n",
              "    </tr>\n",
              "    <tr>\n",
              "      <th>3787677</th>\n",
              "      <td>b000j588g4</td>\n",
              "      <td>photo explosion 3.0</td>\n",
              "      <td>photo explosion 3.0</td>\n",
              "      <td>29.99</td>\n",
              "      <td>http://www.google.com/base/feeds/snippets/1497...</td>\n",
              "      <td>xbox 360: gears of war</td>\n",
              "      <td>as marcus fenix you fight a war against the im...</td>\n",
              "      <td>59.99</td>\n",
              "      <td>0</td>\n",
              "    </tr>\n",
              "    <tr>\n",
              "      <th>3787678</th>\n",
              "      <td>b000j588g4</td>\n",
              "      <td>photo explosion 3.0</td>\n",
              "      <td>photo explosion 3.0</td>\n",
              "      <td>29.99</td>\n",
              "      <td>http://www.google.com/base/feeds/snippets/1498...</td>\n",
              "      <td>documents to go premium 7.0</td>\n",
              "      <td>this pda software enables you to use your docu...</td>\n",
              "      <td>49.99</td>\n",
              "      <td>0</td>\n",
              "    </tr>\n",
              "    <tr>\n",
              "      <th>3787679</th>\n",
              "      <td>b000j588g4</td>\n",
              "      <td>photo explosion 3.0</td>\n",
              "      <td>photo explosion 3.0</td>\n",
              "      <td>29.99</td>\n",
              "      <td>http://www.google.com/base/feeds/snippets/1499...</td>\n",
              "      <td>microsoft(r) picture it! digital image pro 9.0</td>\n",
              "      <td>picture it! digital image pro puts you in cont...</td>\n",
              "      <td>99.87</td>\n",
              "      <td>0</td>\n",
              "    </tr>\n",
              "  </tbody>\n",
              "</table>\n",
              "<p>3787680 rows × 9 columns</p>\n",
              "</div>\n",
              "      <button class=\"colab-df-convert\" onclick=\"convertToInteractive('df-a47059bd-de2b-4428-87c4-c631ff2d3119')\"\n",
              "              title=\"Convert this dataframe to an interactive table.\"\n",
              "              style=\"display:none;\">\n",
              "        \n",
              "  <svg xmlns=\"http://www.w3.org/2000/svg\" height=\"24px\"viewBox=\"0 0 24 24\"\n",
              "       width=\"24px\">\n",
              "    <path d=\"M0 0h24v24H0V0z\" fill=\"none\"/>\n",
              "    <path d=\"M18.56 5.44l.94 2.06.94-2.06 2.06-.94-2.06-.94-.94-2.06-.94 2.06-2.06.94zm-11 1L8.5 8.5l.94-2.06 2.06-.94-2.06-.94L8.5 2.5l-.94 2.06-2.06.94zm10 10l.94 2.06.94-2.06 2.06-.94-2.06-.94-.94-2.06-.94 2.06-2.06.94z\"/><path d=\"M17.41 7.96l-1.37-1.37c-.4-.4-.92-.59-1.43-.59-.52 0-1.04.2-1.43.59L10.3 9.45l-7.72 7.72c-.78.78-.78 2.05 0 2.83L4 21.41c.39.39.9.59 1.41.59.51 0 1.02-.2 1.41-.59l7.78-7.78 2.81-2.81c.8-.78.8-2.07 0-2.86zM5.41 20L4 18.59l7.72-7.72 1.47 1.35L5.41 20z\"/>\n",
              "  </svg>\n",
              "      </button>\n",
              "      \n",
              "  <style>\n",
              "    .colab-df-container {\n",
              "      display:flex;\n",
              "      flex-wrap:wrap;\n",
              "      gap: 12px;\n",
              "    }\n",
              "\n",
              "    .colab-df-convert {\n",
              "      background-color: #E8F0FE;\n",
              "      border: none;\n",
              "      border-radius: 50%;\n",
              "      cursor: pointer;\n",
              "      display: none;\n",
              "      fill: #1967D2;\n",
              "      height: 32px;\n",
              "      padding: 0 0 0 0;\n",
              "      width: 32px;\n",
              "    }\n",
              "\n",
              "    .colab-df-convert:hover {\n",
              "      background-color: #E2EBFA;\n",
              "      box-shadow: 0px 1px 2px rgba(60, 64, 67, 0.3), 0px 1px 3px 1px rgba(60, 64, 67, 0.15);\n",
              "      fill: #174EA6;\n",
              "    }\n",
              "\n",
              "    [theme=dark] .colab-df-convert {\n",
              "      background-color: #3B4455;\n",
              "      fill: #D2E3FC;\n",
              "    }\n",
              "\n",
              "    [theme=dark] .colab-df-convert:hover {\n",
              "      background-color: #434B5C;\n",
              "      box-shadow: 0px 1px 3px 1px rgba(0, 0, 0, 0.15);\n",
              "      filter: drop-shadow(0px 1px 2px rgba(0, 0, 0, 0.3));\n",
              "      fill: #FFFFFF;\n",
              "    }\n",
              "  </style>\n",
              "\n",
              "      <script>\n",
              "        const buttonEl =\n",
              "          document.querySelector('#df-a47059bd-de2b-4428-87c4-c631ff2d3119 button.colab-df-convert');\n",
              "        buttonEl.style.display =\n",
              "          google.colab.kernel.accessAllowed ? 'block' : 'none';\n",
              "\n",
              "        async function convertToInteractive(key) {\n",
              "          const element = document.querySelector('#df-a47059bd-de2b-4428-87c4-c631ff2d3119');\n",
              "          const dataTable =\n",
              "            await google.colab.kernel.invokeFunction('convertToInteractive',\n",
              "                                                     [key], {});\n",
              "          if (!dataTable) return;\n",
              "\n",
              "          const docLinkHtml = 'Like what you see? Visit the ' +\n",
              "            '<a target=\"_blank\" href=https://colab.research.google.com/notebooks/data_table.ipynb>data table notebook</a>'\n",
              "            + ' to learn more about interactive tables.';\n",
              "          element.innerHTML = '';\n",
              "          dataTable['output_type'] = 'display_data';\n",
              "          await google.colab.output.renderOutput(dataTable, element);\n",
              "          const docLink = document.createElement('div');\n",
              "          docLink.innerHTML = docLinkHtml;\n",
              "          element.appendChild(docLink);\n",
              "        }\n",
              "      </script>\n",
              "    </div>\n",
              "  </div>\n",
              "  "
            ]
          },
          "metadata": {},
          "execution_count": 14
        }
      ]
    },
    {
      "cell_type": "code",
      "execution_count": 15,
      "metadata": {
        "colab": {
          "base_uri": "https://localhost:8080/"
        },
        "id": "1165392e",
        "outputId": "30be84aa-8b27-44c1-ad30-dba854ea62a4"
      },
      "outputs": [
        {
          "output_type": "execute_result",
          "data": {
            "text/plain": [
              "0    3786519\n",
              "1       1161\n",
              "Name: match, dtype: int64"
            ]
          },
          "metadata": {},
          "execution_count": 15
        }
      ],
      "source": [
        "df.match.value_counts()"
      ],
      "id": "1165392e"
    },
    {
      "cell_type": "code",
      "execution_count": 16,
      "metadata": {
        "colab": {
          "base_uri": "https://localhost:8080/"
        },
        "id": "UMkhJW9thdjA",
        "outputId": "bcdddef5-05d5-4556-f5f5-b3c71bfd5c7d"
      },
      "outputs": [
        {
          "output_type": "stream",
          "name": "stdout",
          "text": [
            "<class 'pandas.core.frame.DataFrame'>\n",
            "RangeIndex: 3787680 entries, 0 to 3787679\n",
            "Data columns (total 9 columns):\n",
            " #   Column         Dtype  \n",
            "---  ------         -----  \n",
            " 0   a_id           string \n",
            " 1   a_title        string \n",
            " 2   a_description  string \n",
            " 3   a_price        Float64\n",
            " 4   g_id           string \n",
            " 5   g_ititle       string \n",
            " 6   g_description  string \n",
            " 7   g_price        string \n",
            " 8   match          int64  \n",
            "dtypes: Float64(1), int64(1), string(7)\n",
            "memory usage: 7.7 GB\n"
          ]
        }
      ],
      "source": [
        "df.info(memory_usage=\"deep\")"
      ],
      "id": "UMkhJW9thdjA"
    },
    {
      "cell_type": "markdown",
      "source": [
        "## **Text Preprocessing**"
      ],
      "metadata": {
        "id": "QnmOW3DCp4I2"
      },
      "id": "QnmOW3DCp4I2"
    },
    {
      "cell_type": "code",
      "source": [
        "df = df.drop(columns=[\"a_id\",\"g_id\",'a_price', 'g_price'])"
      ],
      "metadata": {
        "id": "fWQS4nVOvo3Q"
      },
      "id": "fWQS4nVOvo3Q",
      "execution_count": 17,
      "outputs": []
    },
    {
      "cell_type": "code",
      "source": [
        "# Removing punctuations\n",
        "data=df.iloc[:,0:4]\n",
        "data.replace(\"[^a-zA-Z]\",\" \",regex=True, inplace=True)"
      ],
      "metadata": {
        "id": "vWguNuAHswJy"
      },
      "id": "vWguNuAHswJy",
      "execution_count": 18,
      "outputs": []
    },
    {
      "cell_type": "code",
      "source": [
        "data"
      ],
      "metadata": {
        "id": "0KxVN3VHp3Ln",
        "colab": {
          "base_uri": "https://localhost:8080/",
          "height": 641
        },
        "outputId": "46f43d37-d99c-420d-e1da-14cda4ae50cb"
      },
      "id": "0KxVN3VHp3Ln",
      "execution_count": null,
      "outputs": [
        {
          "output_type": "execute_result",
          "data": {
            "text/plain": [
              "                                                  a_title  \\\n",
              "0        ca international   arcserve lap desktop oem   pk   \n",
              "1        ca international   arcserve lap desktop oem   pk   \n",
              "2        ca international   arcserve lap desktop oem   pk   \n",
              "3        ca international   arcserve lap desktop oem   pk   \n",
              "4        ca international   arcserve lap desktop oem   pk   \n",
              "...                                                   ...   \n",
              "3787675                               photo explosion       \n",
              "3787676                               photo explosion       \n",
              "3787677                               photo explosion       \n",
              "3787678                               photo explosion       \n",
              "3787679                               photo explosion       \n",
              "\n",
              "                                             a_description  \\\n",
              "0        oem arcserve backup v     win   u for laptops ...   \n",
              "1        oem arcserve backup v     win   u for laptops ...   \n",
              "2        oem arcserve backup v     win   u for laptops ...   \n",
              "3        oem arcserve backup v     win   u for laptops ...   \n",
              "4        oem arcserve backup v     win   u for laptops ...   \n",
              "...                                                    ...   \n",
              "3787675                                photo explosion       \n",
              "3787676                                photo explosion       \n",
              "3787677                                photo explosion       \n",
              "3787678                                photo explosion       \n",
              "3787679                                photo explosion       \n",
              "\n",
              "                                                  g_ititle  \\\n",
              "0                                 learning quickbooks        \n",
              "1                  superstart  fun with reading   writing    \n",
              "2                                qb pos     basic software   \n",
              "3        math missions  the amazing arcade adventure  g...   \n",
              "4                           production prem cs  mac upgrad   \n",
              "...                                                    ...   \n",
              "3787675                    jumpstart r  advanced  st grade   \n",
              "3787676             ibm r  viavoice r  advanced edition      \n",
              "3787677                             xbox      gears of war   \n",
              "3787678                        documents to go premium       \n",
              "3787679     microsoft r  picture it  digital image pro       \n",
              "\n",
              "                                             g_description  \n",
              "0                                 learning quickbooks       \n",
              "1        fun with reading   writing  is designed to hel...  \n",
              "2        qb pos     basic retail mngmt software  for re...  \n",
              "3        save spectacle city by disrupting randall unde...  \n",
              "4        adobe cs  production premium mac upgrade from ...  \n",
              "...                                                    ...  \n",
              "3787675  prepare your child for the  st grade and beyon...  \n",
              "3787676  ibm viavoice advanced edition release    is a ...  \n",
              "3787677  as marcus fenix you fight a war against the im...  \n",
              "3787678  this pda software enables you to use your docu...  \n",
              "3787679  picture it  digital image pro puts you in cont...  \n",
              "\n",
              "[3787680 rows x 4 columns]"
            ],
            "text/html": [
              "\n",
              "  <div id=\"df-c22bb776-1274-4f89-a611-58154197c100\">\n",
              "    <div class=\"colab-df-container\">\n",
              "      <div>\n",
              "<style scoped>\n",
              "    .dataframe tbody tr th:only-of-type {\n",
              "        vertical-align: middle;\n",
              "    }\n",
              "\n",
              "    .dataframe tbody tr th {\n",
              "        vertical-align: top;\n",
              "    }\n",
              "\n",
              "    .dataframe thead th {\n",
              "        text-align: right;\n",
              "    }\n",
              "</style>\n",
              "<table border=\"1\" class=\"dataframe\">\n",
              "  <thead>\n",
              "    <tr style=\"text-align: right;\">\n",
              "      <th></th>\n",
              "      <th>a_title</th>\n",
              "      <th>a_description</th>\n",
              "      <th>g_ititle</th>\n",
              "      <th>g_description</th>\n",
              "    </tr>\n",
              "  </thead>\n",
              "  <tbody>\n",
              "    <tr>\n",
              "      <th>0</th>\n",
              "      <td>ca international   arcserve lap desktop oem   pk</td>\n",
              "      <td>oem arcserve backup v     win   u for laptops ...</td>\n",
              "      <td>learning quickbooks</td>\n",
              "      <td>learning quickbooks</td>\n",
              "    </tr>\n",
              "    <tr>\n",
              "      <th>1</th>\n",
              "      <td>ca international   arcserve lap desktop oem   pk</td>\n",
              "      <td>oem arcserve backup v     win   u for laptops ...</td>\n",
              "      <td>superstart  fun with reading   writing</td>\n",
              "      <td>fun with reading   writing  is designed to hel...</td>\n",
              "    </tr>\n",
              "    <tr>\n",
              "      <th>2</th>\n",
              "      <td>ca international   arcserve lap desktop oem   pk</td>\n",
              "      <td>oem arcserve backup v     win   u for laptops ...</td>\n",
              "      <td>qb pos     basic software</td>\n",
              "      <td>qb pos     basic retail mngmt software  for re...</td>\n",
              "    </tr>\n",
              "    <tr>\n",
              "      <th>3</th>\n",
              "      <td>ca international   arcserve lap desktop oem   pk</td>\n",
              "      <td>oem arcserve backup v     win   u for laptops ...</td>\n",
              "      <td>math missions  the amazing arcade adventure  g...</td>\n",
              "      <td>save spectacle city by disrupting randall unde...</td>\n",
              "    </tr>\n",
              "    <tr>\n",
              "      <th>4</th>\n",
              "      <td>ca international   arcserve lap desktop oem   pk</td>\n",
              "      <td>oem arcserve backup v     win   u for laptops ...</td>\n",
              "      <td>production prem cs  mac upgrad</td>\n",
              "      <td>adobe cs  production premium mac upgrade from ...</td>\n",
              "    </tr>\n",
              "    <tr>\n",
              "      <th>...</th>\n",
              "      <td>...</td>\n",
              "      <td>...</td>\n",
              "      <td>...</td>\n",
              "      <td>...</td>\n",
              "    </tr>\n",
              "    <tr>\n",
              "      <th>3787675</th>\n",
              "      <td>photo explosion</td>\n",
              "      <td>photo explosion</td>\n",
              "      <td>jumpstart r  advanced  st grade</td>\n",
              "      <td>prepare your child for the  st grade and beyon...</td>\n",
              "    </tr>\n",
              "    <tr>\n",
              "      <th>3787676</th>\n",
              "      <td>photo explosion</td>\n",
              "      <td>photo explosion</td>\n",
              "      <td>ibm r  viavoice r  advanced edition</td>\n",
              "      <td>ibm viavoice advanced edition release    is a ...</td>\n",
              "    </tr>\n",
              "    <tr>\n",
              "      <th>3787677</th>\n",
              "      <td>photo explosion</td>\n",
              "      <td>photo explosion</td>\n",
              "      <td>xbox      gears of war</td>\n",
              "      <td>as marcus fenix you fight a war against the im...</td>\n",
              "    </tr>\n",
              "    <tr>\n",
              "      <th>3787678</th>\n",
              "      <td>photo explosion</td>\n",
              "      <td>photo explosion</td>\n",
              "      <td>documents to go premium</td>\n",
              "      <td>this pda software enables you to use your docu...</td>\n",
              "    </tr>\n",
              "    <tr>\n",
              "      <th>3787679</th>\n",
              "      <td>photo explosion</td>\n",
              "      <td>photo explosion</td>\n",
              "      <td>microsoft r  picture it  digital image pro</td>\n",
              "      <td>picture it  digital image pro puts you in cont...</td>\n",
              "    </tr>\n",
              "  </tbody>\n",
              "</table>\n",
              "<p>3787680 rows × 4 columns</p>\n",
              "</div>\n",
              "      <button class=\"colab-df-convert\" onclick=\"convertToInteractive('df-c22bb776-1274-4f89-a611-58154197c100')\"\n",
              "              title=\"Convert this dataframe to an interactive table.\"\n",
              "              style=\"display:none;\">\n",
              "        \n",
              "  <svg xmlns=\"http://www.w3.org/2000/svg\" height=\"24px\"viewBox=\"0 0 24 24\"\n",
              "       width=\"24px\">\n",
              "    <path d=\"M0 0h24v24H0V0z\" fill=\"none\"/>\n",
              "    <path d=\"M18.56 5.44l.94 2.06.94-2.06 2.06-.94-2.06-.94-.94-2.06-.94 2.06-2.06.94zm-11 1L8.5 8.5l.94-2.06 2.06-.94-2.06-.94L8.5 2.5l-.94 2.06-2.06.94zm10 10l.94 2.06.94-2.06 2.06-.94-2.06-.94-.94-2.06-.94 2.06-2.06.94z\"/><path d=\"M17.41 7.96l-1.37-1.37c-.4-.4-.92-.59-1.43-.59-.52 0-1.04.2-1.43.59L10.3 9.45l-7.72 7.72c-.78.78-.78 2.05 0 2.83L4 21.41c.39.39.9.59 1.41.59.51 0 1.02-.2 1.41-.59l7.78-7.78 2.81-2.81c.8-.78.8-2.07 0-2.86zM5.41 20L4 18.59l7.72-7.72 1.47 1.35L5.41 20z\"/>\n",
              "  </svg>\n",
              "      </button>\n",
              "      \n",
              "  <style>\n",
              "    .colab-df-container {\n",
              "      display:flex;\n",
              "      flex-wrap:wrap;\n",
              "      gap: 12px;\n",
              "    }\n",
              "\n",
              "    .colab-df-convert {\n",
              "      background-color: #E8F0FE;\n",
              "      border: none;\n",
              "      border-radius: 50%;\n",
              "      cursor: pointer;\n",
              "      display: none;\n",
              "      fill: #1967D2;\n",
              "      height: 32px;\n",
              "      padding: 0 0 0 0;\n",
              "      width: 32px;\n",
              "    }\n",
              "\n",
              "    .colab-df-convert:hover {\n",
              "      background-color: #E2EBFA;\n",
              "      box-shadow: 0px 1px 2px rgba(60, 64, 67, 0.3), 0px 1px 3px 1px rgba(60, 64, 67, 0.15);\n",
              "      fill: #174EA6;\n",
              "    }\n",
              "\n",
              "    [theme=dark] .colab-df-convert {\n",
              "      background-color: #3B4455;\n",
              "      fill: #D2E3FC;\n",
              "    }\n",
              "\n",
              "    [theme=dark] .colab-df-convert:hover {\n",
              "      background-color: #434B5C;\n",
              "      box-shadow: 0px 1px 3px 1px rgba(0, 0, 0, 0.15);\n",
              "      filter: drop-shadow(0px 1px 2px rgba(0, 0, 0, 0.3));\n",
              "      fill: #FFFFFF;\n",
              "    }\n",
              "  </style>\n",
              "\n",
              "      <script>\n",
              "        const buttonEl =\n",
              "          document.querySelector('#df-c22bb776-1274-4f89-a611-58154197c100 button.colab-df-convert');\n",
              "        buttonEl.style.display =\n",
              "          google.colab.kernel.accessAllowed ? 'block' : 'none';\n",
              "\n",
              "        async function convertToInteractive(key) {\n",
              "          const element = document.querySelector('#df-c22bb776-1274-4f89-a611-58154197c100');\n",
              "          const dataTable =\n",
              "            await google.colab.kernel.invokeFunction('convertToInteractive',\n",
              "                                                     [key], {});\n",
              "          if (!dataTable) return;\n",
              "\n",
              "          const docLinkHtml = 'Like what you see? Visit the ' +\n",
              "            '<a target=\"_blank\" href=https://colab.research.google.com/notebooks/data_table.ipynb>data table notebook</a>'\n",
              "            + ' to learn more about interactive tables.';\n",
              "          element.innerHTML = '';\n",
              "          dataTable['output_type'] = 'display_data';\n",
              "          await google.colab.output.renderOutput(dataTable, element);\n",
              "          const docLink = document.createElement('div');\n",
              "          docLink.innerHTML = docLinkHtml;\n",
              "          element.appendChild(docLink);\n",
              "        }\n",
              "      </script>\n",
              "    </div>\n",
              "  </div>\n",
              "  "
            ]
          },
          "metadata": {},
          "execution_count": 18
        }
      ]
    },
    {
      "cell_type": "code",
      "source": [
        "data.info(memory_usage=\"deep\")"
      ],
      "metadata": {
        "id": "hpFev3OLp3nd",
        "colab": {
          "base_uri": "https://localhost:8080/"
        },
        "outputId": "5a1e202f-22cc-4ce1-e8a8-0747f33a566a"
      },
      "id": "hpFev3OLp3nd",
      "execution_count": 19,
      "outputs": [
        {
          "output_type": "stream",
          "name": "stdout",
          "text": [
            "<class 'pandas.core.frame.DataFrame'>\n",
            "RangeIndex: 3787680 entries, 0 to 3787679\n",
            "Data columns (total 4 columns):\n",
            " #   Column         Dtype \n",
            "---  ------         ----- \n",
            " 0   a_title        string\n",
            " 1   a_description  string\n",
            " 2   g_ititle       string\n",
            " 3   g_description  string\n",
            "dtypes: string(4)\n",
            "memory usage: 6.8 GB\n"
          ]
        }
      ]
    },
    {
      "cell_type": "markdown",
      "source": [
        "## **Handling Imbalanced Class Labels**"
      ],
      "metadata": {
        "id": "mGjIknJN0zCL"
      },
      "id": "mGjIknJN0zCL"
    },
    {
      "cell_type": "code",
      "source": [
        "X = data\n",
        "Y = df['match']\n",
        "le = LabelEncoder()\n",
        "y = le.fit_transform(Y)\n",
        "y = y.reshape(-1,1)"
      ],
      "metadata": {
        "id": "2em5FBd4_VZ6"
      },
      "id": "2em5FBd4_VZ6",
      "execution_count": 29,
      "outputs": []
    },
    {
      "cell_type": "markdown",
      "metadata": {
        "id": "HqXKu140YCz1"
      },
      "source": [
        "## Splitting into training and test set"
      ],
      "id": "HqXKu140YCz1"
    },
    {
      "cell_type": "code",
      "source": [
        "from sklearn.model_selection import train_test_split\n",
        "\n",
        "# split into 70:30 ration\n",
        "X_train, X_test, y_train, y_test = train_test_split(X, y, test_size = 0.3, random_state = 0)\n",
        "\n",
        "# describes info about train and test set\n",
        "print(\"Number transactions X_train dataset: \", X_train.shape)\n",
        "print(\"Number transactions y_train dataset: \", y_train.shape)\n",
        "print(\"Number transactions X_test dataset: \", X_test.shape)\n",
        "print(\"Number transactions y_test dataset: \", y_test.shape)"
      ],
      "metadata": {
        "colab": {
          "base_uri": "https://localhost:8080/"
        },
        "id": "49S7wB0F_V9m",
        "outputId": "f0292f9f-5e8d-4dd8-f6e8-6a7bccd874cc"
      },
      "id": "49S7wB0F_V9m",
      "execution_count": 30,
      "outputs": [
        {
          "output_type": "stream",
          "name": "stdout",
          "text": [
            "Number transactions X_train dataset:  (2651376, 4)\n",
            "Number transactions y_train dataset:  (2651376, 1)\n",
            "Number transactions X_test dataset:  (1136304, 4)\n",
            "Number transactions y_test dataset:  (1136304, 1)\n"
          ]
        }
      ]
    },
    {
      "cell_type": "code",
      "source": [
        "!pip install imblearn"
      ],
      "metadata": {
        "colab": {
          "base_uri": "https://localhost:8080/"
        },
        "id": "OqJwsGx2AU4i",
        "outputId": "eb3ec76b-9ff8-4afe-c892-eb054b6c6b16"
      },
      "id": "OqJwsGx2AU4i",
      "execution_count": 22,
      "outputs": [
        {
          "output_type": "stream",
          "name": "stdout",
          "text": [
            "Looking in indexes: https://pypi.org/simple, https://us-python.pkg.dev/colab-wheels/public/simple/\n",
            "Requirement already satisfied: imblearn in /usr/local/lib/python3.7/dist-packages (0.0)\n",
            "Requirement already satisfied: imbalanced-learn in /usr/local/lib/python3.7/dist-packages (from imblearn) (0.8.1)\n",
            "Requirement already satisfied: numpy>=1.13.3 in /usr/local/lib/python3.7/dist-packages (from imbalanced-learn->imblearn) (1.21.6)\n",
            "Requirement already satisfied: joblib>=0.11 in /usr/local/lib/python3.7/dist-packages (from imbalanced-learn->imblearn) (1.1.0)\n",
            "Requirement already satisfied: scipy>=0.19.1 in /usr/local/lib/python3.7/dist-packages (from imbalanced-learn->imblearn) (1.7.3)\n",
            "Requirement already satisfied: scikit-learn>=0.24 in /usr/local/lib/python3.7/dist-packages (from imbalanced-learn->imblearn) (1.0.2)\n",
            "Requirement already satisfied: threadpoolctl>=2.0.0 in /usr/local/lib/python3.7/dist-packages (from scikit-learn>=0.24->imbalanced-learn->imblearn) (3.1.0)\n"
          ]
        }
      ]
    },
    {
      "cell_type": "code",
      "source": [
        "print(\"Before Undersampling, counts of label '1': {}\".format(sum(y_train == 1)))\n",
        "print(\"Before Undersampling, counts of label '0': {} \\n\".format(sum(y_train == 0)))\n",
        "\n",
        "# apply random sampler on Training Set\n",
        "from imblearn.under_sampling import RandomUnderSampler  #NearMiss\n",
        "under_sampler  = RandomUnderSampler()   #NearMiss()\n",
        "\n",
        "X_train_miss, y_train_miss = under_sampler.fit_resample(X_train, y_train)\n",
        "\n",
        "print('After Undersampling, the shape of train_X: {}'.format(X_train_miss.shape))\n",
        "print('After Undersampling, the shape of train_y: {} \\n'.format(y_train_miss.shape))\n",
        "\n",
        "print(\"After Undersampling, counts of label '1': {}\".format(sum(y_train_miss == 1)))\n",
        "print(\"After Undersampling, counts of label '0': {}\".format(sum(y_train_miss == 0)))"
      ],
      "metadata": {
        "colab": {
          "base_uri": "https://localhost:8080/"
        },
        "id": "tWVal1xMApUj",
        "outputId": "0107eab6-499e-4455-e1f9-11ca31e0071b"
      },
      "id": "tWVal1xMApUj",
      "execution_count": 31,
      "outputs": [
        {
          "output_type": "stream",
          "name": "stdout",
          "text": [
            "Before Undersampling, counts of label '1': [808]\n",
            "Before Undersampling, counts of label '0': [2650568] \n",
            "\n",
            "After Undersampling, the shape of train_X: (1616, 4)\n",
            "After Undersampling, the shape of train_y: (1616,) \n",
            "\n",
            "After Undersampling, counts of label '1': 808\n",
            "After Undersampling, counts of label '0': 808\n"
          ]
        }
      ]
    },
    {
      "cell_type": "code",
      "source": [
        "# apply random sampler on Test set\n",
        "from imblearn.under_sampling import RandomUnderSampler  #NearMiss\n",
        "under_sampler  = RandomUnderSampler()   #NearMiss()\n",
        "\n",
        "X_test_miss, y_test_miss = under_sampler.fit_resample(X_test, y_test)\n",
        "\n",
        "print('After Undersampling, the shape of test_X: {}'.format(X_test_miss.shape))\n",
        "print('After Undersampling, the shape of test_y: {} \\n'.format(y_test_miss.shape))\n",
        "\n",
        "print(\"After Undersampling, counts of label '1': {}\".format(sum(y_test_miss == 1)))\n",
        "print(\"After Undersampling, counts of label '0': {}\".format(sum(y_test_miss == 0)))"
      ],
      "metadata": {
        "colab": {
          "base_uri": "https://localhost:8080/"
        },
        "id": "UdxCfDO-DvoC",
        "outputId": "fa197d64-c8ea-4a3b-aca9-92348a92b5c4"
      },
      "id": "UdxCfDO-DvoC",
      "execution_count": 32,
      "outputs": [
        {
          "output_type": "stream",
          "name": "stdout",
          "text": [
            "After Undersampling, the shape of test_X: (706, 4)\n",
            "After Undersampling, the shape of test_y: (706,) \n",
            "\n",
            "After Undersampling, counts of label '1': 353\n",
            "After Undersampling, counts of label '0': 353\n"
          ]
        }
      ]
    },
    {
      "cell_type": "markdown",
      "metadata": {
        "id": "zXcMtUGOUTkg"
      },
      "source": [
        "## **Trying LSTM**"
      ],
      "id": "zXcMtUGOUTkg"
    },
    {
      "cell_type": "markdown",
      "metadata": {
        "id": "Q1S87wYTYTMf"
      },
      "source": [
        "**Process the data**\n",
        "\n",
        "Tokenize the data and convert the text to sequences.\n",
        "Add padding to ensure that all the sequences have the same shape.\n",
        "There are many ways of taking the max_len and here an arbitrary length of 150 is chosen."
      ],
      "id": "Q1S87wYTYTMf"
    },
    {
      "cell_type": "code",
      "source": [
        "max_words = 1000\n",
        "max_len = 150\n",
        "tok = Tokenizer(num_words=max_words)\n",
        "tok.fit_on_texts(X_train_miss)\n",
        "sequences = tok.texts_to_sequences(X_train_miss)\n",
        "sequences_matrix = sequence.pad_sequences(sequences,maxlen=max_len)"
      ],
      "metadata": {
        "id": "rR4bps2YYaVJ"
      },
      "id": "rR4bps2YYaVJ",
      "execution_count": 25,
      "outputs": []
    },
    {
      "cell_type": "markdown",
      "metadata": {
        "id": "W5ZbtG3kYjYF"
      },
      "source": [
        "**RNN**\n",
        "\n",
        "Define the RNN structure."
      ],
      "id": "W5ZbtG3kYjYF"
    },
    {
      "cell_type": "code",
      "source": [
        "def RNN():\n",
        "    inputs = Input(name='inputs',shape=[max_len])\n",
        "    layer = Embedding(max_words,50,input_length=max_len)(inputs)\n",
        "    layer = LSTM(64)(layer)\n",
        "    layer = Dense(256,name='FC1')(layer)\n",
        "    layer = Activation('relu')(layer)\n",
        "    layer = Dropout(0.5)(layer)\n",
        "    layer = Dense(1,name='out_layer')(layer)\n",
        "    layer = Activation('sigmoid')(layer)\n",
        "    model = Model(inputs=inputs,outputs=layer)\n",
        "    return model"
      ],
      "metadata": {
        "id": "u9FhM2c-YumX"
      },
      "id": "u9FhM2c-YumX",
      "execution_count": 26,
      "outputs": []
    },
    {
      "cell_type": "code",
      "source": [
        "model = RNN()\n",
        "model.summary()\n",
        "model.compile(loss='binary_crossentropy',optimizer=RMSprop(),metrics=['accuracy'])"
      ],
      "metadata": {
        "id": "masMzn0rZCMz",
        "colab": {
          "base_uri": "https://localhost:8080/"
        },
        "outputId": "f11b05a8-6eb2-448c-e61d-4eb4efcae4a0"
      },
      "id": "masMzn0rZCMz",
      "execution_count": 27,
      "outputs": [
        {
          "output_type": "stream",
          "name": "stdout",
          "text": [
            "Model: \"model\"\n",
            "_________________________________________________________________\n",
            " Layer (type)                Output Shape              Param #   \n",
            "=================================================================\n",
            " inputs (InputLayer)         [(None, 150)]             0         \n",
            "                                                                 \n",
            " embedding (Embedding)       (None, 150, 50)           50000     \n",
            "                                                                 \n",
            " lstm (LSTM)                 (None, 64)                29440     \n",
            "                                                                 \n",
            " FC1 (Dense)                 (None, 256)               16640     \n",
            "                                                                 \n",
            " activation (Activation)     (None, 256)               0         \n",
            "                                                                 \n",
            " dropout (Dropout)           (None, 256)               0         \n",
            "                                                                 \n",
            " out_layer (Dense)           (None, 1)                 257       \n",
            "                                                                 \n",
            " activation_1 (Activation)   (None, 1)                 0         \n",
            "                                                                 \n",
            "=================================================================\n",
            "Total params: 96,337\n",
            "Trainable params: 96,337\n",
            "Non-trainable params: 0\n",
            "_________________________________________________________________\n"
          ]
        }
      ]
    },
    {
      "cell_type": "markdown",
      "metadata": {
        "id": "YCb3Te9hZGkF"
      },
      "source": [
        "## Fit on training Data"
      ],
      "id": "YCb3Te9hZGkF"
    },
    {
      "cell_type": "code",
      "source": [
        "model.fit(sequences_matrix,y_train_miss,batch_size=128,epochs=10,\n",
        "          validation_split=0.2,callbacks=[EarlyStopping(monitor='val_loss',min_delta=0.0001)])"
      ],
      "metadata": {
        "id": "GBBBWSWvZO0j",
        "colab": {
          "base_uri": "https://localhost:8080/"
        },
        "outputId": "a5e11d97-7e61-4d4a-9b1d-3252a220cbfb"
      },
      "id": "GBBBWSWvZO0j",
      "execution_count": 33,
      "outputs": [
        {
          "output_type": "stream",
          "name": "stdout",
          "text": [
            "Epoch 1/10\n",
            "1/1 [==============================] - 3s 3s/step - loss: 0.6926 - accuracy: 0.3333 - val_loss: 0.6701 - val_accuracy: 1.0000\n",
            "Epoch 2/10\n",
            "1/1 [==============================] - 0s 95ms/step - loss: 0.6715 - accuracy: 1.0000 - val_loss: 0.6359 - val_accuracy: 1.0000\n"
          ]
        },
        {
          "output_type": "execute_result",
          "data": {
            "text/plain": [
              "<keras.callbacks.History at 0x7f4985658e90>"
            ]
          },
          "metadata": {},
          "execution_count": 33
        }
      ]
    },
    {
      "cell_type": "code",
      "source": [
        "test_sequences = tok.texts_to_sequences(X_test_miss)\n",
        "test_sequences_matrix = sequence.pad_sequences(test_sequences,maxlen=max_len)"
      ],
      "metadata": {
        "id": "XKIfYtRFZRxJ"
      },
      "id": "XKIfYtRFZRxJ",
      "execution_count": 34,
      "outputs": []
    },
    {
      "cell_type": "markdown",
      "source": [
        "## Applying on Test Data\n",
        "\n"
      ],
      "metadata": {
        "id": "Kgm3a6WOzQT_"
      },
      "id": "Kgm3a6WOzQT_"
    },
    {
      "cell_type": "code",
      "source": [
        "accr = model.evaluate(test_sequences_matrix,y_test_miss)"
      ],
      "metadata": {
        "id": "kcCzsQpfzmOp",
        "colab": {
          "base_uri": "https://localhost:8080/",
          "height": 364
        },
        "outputId": "c1b104d7-6c8a-4469-dba2-926db5e6456e"
      },
      "id": "kcCzsQpfzmOp",
      "execution_count": 36,
      "outputs": [
        {
          "output_type": "error",
          "ename": "ValueError",
          "evalue": "ignored",
          "traceback": [
            "\u001b[0;31m---------------------------------------------------------------------------\u001b[0m",
            "\u001b[0;31mValueError\u001b[0m                                Traceback (most recent call last)",
            "\u001b[0;32m<ipython-input-36-ae7e067e5629>\u001b[0m in \u001b[0;36m<module>\u001b[0;34m\u001b[0m\n\u001b[0;32m----> 1\u001b[0;31m \u001b[0maccr\u001b[0m \u001b[0;34m=\u001b[0m \u001b[0mmodel\u001b[0m\u001b[0;34m.\u001b[0m\u001b[0mevaluate\u001b[0m\u001b[0;34m(\u001b[0m\u001b[0mtest_sequences_matrix\u001b[0m\u001b[0;34m,\u001b[0m\u001b[0my_test_miss\u001b[0m\u001b[0;34m)\u001b[0m\u001b[0;34m\u001b[0m\u001b[0;34m\u001b[0m\u001b[0m\n\u001b[0m",
            "\u001b[0;32m/usr/local/lib/python3.7/dist-packages/keras/utils/traceback_utils.py\u001b[0m in \u001b[0;36merror_handler\u001b[0;34m(*args, **kwargs)\u001b[0m\n\u001b[1;32m     65\u001b[0m     \u001b[0;32mexcept\u001b[0m \u001b[0mException\u001b[0m \u001b[0;32mas\u001b[0m \u001b[0me\u001b[0m\u001b[0;34m:\u001b[0m  \u001b[0;31m# pylint: disable=broad-except\u001b[0m\u001b[0;34m\u001b[0m\u001b[0;34m\u001b[0m\u001b[0m\n\u001b[1;32m     66\u001b[0m       \u001b[0mfiltered_tb\u001b[0m \u001b[0;34m=\u001b[0m \u001b[0m_process_traceback_frames\u001b[0m\u001b[0;34m(\u001b[0m\u001b[0me\u001b[0m\u001b[0;34m.\u001b[0m\u001b[0m__traceback__\u001b[0m\u001b[0;34m)\u001b[0m\u001b[0;34m\u001b[0m\u001b[0;34m\u001b[0m\u001b[0m\n\u001b[0;32m---> 67\u001b[0;31m       \u001b[0;32mraise\u001b[0m \u001b[0me\u001b[0m\u001b[0;34m.\u001b[0m\u001b[0mwith_traceback\u001b[0m\u001b[0;34m(\u001b[0m\u001b[0mfiltered_tb\u001b[0m\u001b[0;34m)\u001b[0m \u001b[0;32mfrom\u001b[0m \u001b[0;32mNone\u001b[0m\u001b[0;34m\u001b[0m\u001b[0;34m\u001b[0m\u001b[0m\n\u001b[0m\u001b[1;32m     68\u001b[0m     \u001b[0;32mfinally\u001b[0m\u001b[0;34m:\u001b[0m\u001b[0;34m\u001b[0m\u001b[0;34m\u001b[0m\u001b[0m\n\u001b[1;32m     69\u001b[0m       \u001b[0;32mdel\u001b[0m \u001b[0mfiltered_tb\u001b[0m\u001b[0;34m\u001b[0m\u001b[0;34m\u001b[0m\u001b[0m\n",
            "\u001b[0;32m/usr/local/lib/python3.7/dist-packages/keras/engine/data_adapter.py\u001b[0m in \u001b[0;36m_check_data_cardinality\u001b[0;34m(data)\u001b[0m\n\u001b[1;32m   1651\u001b[0m                            for i in tf.nest.flatten(single_data)))\n\u001b[1;32m   1652\u001b[0m     \u001b[0mmsg\u001b[0m \u001b[0;34m+=\u001b[0m \u001b[0;34m\"Make sure all arrays contain the same number of samples.\"\u001b[0m\u001b[0;34m\u001b[0m\u001b[0;34m\u001b[0m\u001b[0m\n\u001b[0;32m-> 1653\u001b[0;31m     \u001b[0;32mraise\u001b[0m \u001b[0mValueError\u001b[0m\u001b[0;34m(\u001b[0m\u001b[0mmsg\u001b[0m\u001b[0;34m)\u001b[0m\u001b[0;34m\u001b[0m\u001b[0;34m\u001b[0m\u001b[0m\n\u001b[0m\u001b[1;32m   1654\u001b[0m \u001b[0;34m\u001b[0m\u001b[0m\n\u001b[1;32m   1655\u001b[0m \u001b[0;34m\u001b[0m\u001b[0m\n",
            "\u001b[0;31mValueError\u001b[0m: Data cardinality is ambiguous:\n  x sizes: 4\n  y sizes: 706\nMake sure all arrays contain the same number of samples."
          ]
        }
      ]
    },
    {
      "cell_type": "code",
      "source": [
        "print('Test set\\n  Loss: {:0.3f}\\n  Accuracy: {:0.3f}'.format(accr[0],accr[1]))"
      ],
      "metadata": {
        "id": "cYkFsF2MzpPh"
      },
      "id": "cYkFsF2MzpPh",
      "execution_count": null,
      "outputs": []
    },
    {
      "cell_type": "code",
      "source": [],
      "metadata": {
        "id": "qFJkrfgovNVd"
      },
      "id": "qFJkrfgovNVd",
      "execution_count": null,
      "outputs": []
    }
  ],
  "metadata": {
    "accelerator": "GPU",
    "colab": {
      "collapsed_sections": [],
      "provenance": [],
      "include_colab_link": true
    },
    "gpuClass": "standard",
    "kernelspec": {
      "display_name": "Python 3",
      "language": "python",
      "name": "python3"
    },
    "language_info": {
      "codemirror_mode": {
        "name": "ipython",
        "version": 3
      },
      "file_extension": ".py",
      "mimetype": "text/x-python",
      "name": "python",
      "nbconvert_exporter": "python",
      "pygments_lexer": "ipython3",
      "version": "3.7.4"
    }
  },
  "nbformat": 4,
  "nbformat_minor": 5
}