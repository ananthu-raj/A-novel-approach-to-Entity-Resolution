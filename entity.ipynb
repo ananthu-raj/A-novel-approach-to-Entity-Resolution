{
  "cells": [
    {
      "cell_type": "markdown",
      "metadata": {
        "id": "view-in-github",
        "colab_type": "text"
      },
      "source": [
        "<a href=\"https://colab.research.google.com/github/ananthu-raj/A-novel-approach-to-Entity-Resolution/blob/main/entity.ipynb\" target=\"_parent\"><img src=\"https://colab.research.google.com/assets/colab-badge.svg\" alt=\"Open In Colab\"/></a>"
      ]
    },
    {
      "cell_type": "markdown",
      "source": [
        "# **Entity Resolution**"
      ],
      "metadata": {
        "id": "p2h6rCScpqk5"
      },
      "id": "p2h6rCScpqk5"
    },
    {
      "cell_type": "code",
      "execution_count": 19,
      "metadata": {
        "id": "838aae06"
      },
      "outputs": [],
      "source": [
        "import os\n",
        "import sys\n",
        "import pandas as pd\n",
        "import numpy as np\n",
        "import seaborn as sns\n",
        "import matplotlib.pyplot as plt\n",
        "# For regular expressions\n",
        "import re\n",
        "# For handling string\n",
        "import string\n",
        "# For performing mathematical operations\n",
        "import math\n",
        "import warnings\n",
        "%matplotlib inline\n",
        "\n",
        "# Text datasets\n",
        "from bs4 import BeautifulSoup\n",
        "import nltk\n",
        "import sklearn\n",
        "import re\n",
        "import string\n",
        "# For downloading and importing data\n",
        "import os\n",
        "import urllib\n",
        "import itertools\n",
        "import tarfile\n",
        "from tqdm import tqdm\n",
        "\n",
        "# unit test case\n",
        "import unittest as Test\n",
        "\n",
        "import torch\n",
        "import torchvision\n",
        "from sklearn.model_selection import train_test_split\n",
        "from sklearn.preprocessing import LabelEncoder\n",
        "from keras.models import Model\n",
        "from keras.layers import LSTM, Activation, Dense, Dropout, Input, Embedding\n",
        "from tensorflow.keras.optimizers import RMSprop\n",
        "from keras.preprocessing.text import Tokenizer\n",
        "from keras.preprocessing import sequence\n",
        "from tensorflow.keras.utils import to_categorical\n",
        "from keras.callbacks import EarlyStopping\n",
        "%matplotlib inline"
      ],
      "id": "838aae06"
    },
    {
      "cell_type": "code",
      "source": [
        "import tensorflow as tf\n",
        "import numpy as np                                \n",
        "import matplotlib.pyplot as plt\n",
        "import keras as k\n",
        "\n",
        "\n",
        "from keras.models import Sequential\n",
        "from keras.layers import Dense, Dropout, Flatten\n",
        "from keras.layers import Conv2D, MaxPooling2D, BatchNormalization\n",
        "from tensorflow.keras.optimizers import SGD\n",
        "from keras.models import load_model\n",
        "from keras import backend as K"
      ],
      "metadata": {
        "id": "rFsquhJl8sA9"
      },
      "id": "rFsquhJl8sA9",
      "execution_count": 20,
      "outputs": []
    },
    {
      "cell_type": "code",
      "execution_count": 21,
      "metadata": {
        "id": "e1bcd67f"
      },
      "outputs": [],
      "source": [
        "am = pd.read_csv('https://raw.githubusercontent.com/ananthu-raj/A-novel-approach-to-Entity-Resolution/main/am.csv')\n",
        "go = pd.read_csv('https://raw.githubusercontent.com/ananthu-raj/A-novel-approach-to-Entity-Resolution/main/go.csv')\n",
        "match = pd.read_csv('https://raw.githubusercontent.com/ananthu-raj/A-novel-approach-to-Entity-Resolution/main/Amzon_GoogleProducts_perfectMapping.csv')"
      ],
      "id": "e1bcd67f"
    },
    {
      "cell_type": "code",
      "execution_count": 22,
      "metadata": {
        "colab": {
          "base_uri": "https://localhost:8080/",
          "height": 424
        },
        "id": "c47d448e",
        "outputId": "0748dcc4-60f1-46e2-adfd-a87365dc85d4"
      },
      "outputs": [
        {
          "output_type": "execute_result",
          "data": {
            "text/plain": [
              "            a_id                                            a_title  \\\n",
              "0     b0006zf55o   ca international - arcserve lap/desktop oem 30pk   \n",
              "1     b000g80lqo  peachtree by sage premium accounting for nonpr...   \n",
              "2     b0006se5bq                            singing coach unlimited   \n",
              "3     b000ehpzv8            emc retrospect 7.5 disk to disk windows   \n",
              "4     b00021xhzw  adobe after effects professional 6.5 upgrade f...   \n",
              "...          ...                                                ...   \n",
              "1243  b000in8mj0                           photostory on cd & dvd 5   \n",
              "1244  b000cs3s2c                 flash remoting 1 alp ret eng cd 2u   \n",
              "1245  b000h1df7w              dragon naturally speaking standard v9   \n",
              "1246  b000p9cr66                                       mediarecover   \n",
              "1247  b000j588g4                                photo explosion 3.0   \n",
              "\n",
              "                                          a_description  a_price  \n",
              "0     oem arcserve backup v11.1 win 30u for laptops ...     0.00  \n",
              "1     peachtree premium accounting for nonprofits 20...   599.99  \n",
              "2     singing coach unlimited - electronic learning ...    99.99  \n",
              "3            emc retrospect 7.5 disk to diskcromwindows     0.00  \n",
              "4     upgrade only; installation of after effects st...   499.99  \n",
              "...                                                 ...      ...  \n",
              "1243  magix photostory on cd and dvd 5 answers the q...    19.99  \n",
              "1244  - marketing information: macromedia flash remo...  3314.09  \n",
              "1245  dragon naturallyspeaking 9 (standard edition) ...    99.99  \n",
              "1246  mediarecover gives you the ability to recover ...    29.99  \n",
              "1247                                photo explosion 3.0    29.99  \n",
              "\n",
              "[1248 rows x 4 columns]"
            ],
            "text/html": [
              "\n",
              "  <div id=\"df-4f7d3aec-0f4e-4990-99d6-98eaf5269633\">\n",
              "    <div class=\"colab-df-container\">\n",
              "      <div>\n",
              "<style scoped>\n",
              "    .dataframe tbody tr th:only-of-type {\n",
              "        vertical-align: middle;\n",
              "    }\n",
              "\n",
              "    .dataframe tbody tr th {\n",
              "        vertical-align: top;\n",
              "    }\n",
              "\n",
              "    .dataframe thead th {\n",
              "        text-align: right;\n",
              "    }\n",
              "</style>\n",
              "<table border=\"1\" class=\"dataframe\">\n",
              "  <thead>\n",
              "    <tr style=\"text-align: right;\">\n",
              "      <th></th>\n",
              "      <th>a_id</th>\n",
              "      <th>a_title</th>\n",
              "      <th>a_description</th>\n",
              "      <th>a_price</th>\n",
              "    </tr>\n",
              "  </thead>\n",
              "  <tbody>\n",
              "    <tr>\n",
              "      <th>0</th>\n",
              "      <td>b0006zf55o</td>\n",
              "      <td>ca international - arcserve lap/desktop oem 30pk</td>\n",
              "      <td>oem arcserve backup v11.1 win 30u for laptops ...</td>\n",
              "      <td>0.00</td>\n",
              "    </tr>\n",
              "    <tr>\n",
              "      <th>1</th>\n",
              "      <td>b000g80lqo</td>\n",
              "      <td>peachtree by sage premium accounting for nonpr...</td>\n",
              "      <td>peachtree premium accounting for nonprofits 20...</td>\n",
              "      <td>599.99</td>\n",
              "    </tr>\n",
              "    <tr>\n",
              "      <th>2</th>\n",
              "      <td>b0006se5bq</td>\n",
              "      <td>singing coach unlimited</td>\n",
              "      <td>singing coach unlimited - electronic learning ...</td>\n",
              "      <td>99.99</td>\n",
              "    </tr>\n",
              "    <tr>\n",
              "      <th>3</th>\n",
              "      <td>b000ehpzv8</td>\n",
              "      <td>emc retrospect 7.5 disk to disk windows</td>\n",
              "      <td>emc retrospect 7.5 disk to diskcromwindows</td>\n",
              "      <td>0.00</td>\n",
              "    </tr>\n",
              "    <tr>\n",
              "      <th>4</th>\n",
              "      <td>b00021xhzw</td>\n",
              "      <td>adobe after effects professional 6.5 upgrade f...</td>\n",
              "      <td>upgrade only; installation of after effects st...</td>\n",
              "      <td>499.99</td>\n",
              "    </tr>\n",
              "    <tr>\n",
              "      <th>...</th>\n",
              "      <td>...</td>\n",
              "      <td>...</td>\n",
              "      <td>...</td>\n",
              "      <td>...</td>\n",
              "    </tr>\n",
              "    <tr>\n",
              "      <th>1243</th>\n",
              "      <td>b000in8mj0</td>\n",
              "      <td>photostory on cd &amp; dvd 5</td>\n",
              "      <td>magix photostory on cd and dvd 5 answers the q...</td>\n",
              "      <td>19.99</td>\n",
              "    </tr>\n",
              "    <tr>\n",
              "      <th>1244</th>\n",
              "      <td>b000cs3s2c</td>\n",
              "      <td>flash remoting 1 alp ret eng cd 2u</td>\n",
              "      <td>- marketing information: macromedia flash remo...</td>\n",
              "      <td>3314.09</td>\n",
              "    </tr>\n",
              "    <tr>\n",
              "      <th>1245</th>\n",
              "      <td>b000h1df7w</td>\n",
              "      <td>dragon naturally speaking standard v9</td>\n",
              "      <td>dragon naturallyspeaking 9 (standard edition) ...</td>\n",
              "      <td>99.99</td>\n",
              "    </tr>\n",
              "    <tr>\n",
              "      <th>1246</th>\n",
              "      <td>b000p9cr66</td>\n",
              "      <td>mediarecover</td>\n",
              "      <td>mediarecover gives you the ability to recover ...</td>\n",
              "      <td>29.99</td>\n",
              "    </tr>\n",
              "    <tr>\n",
              "      <th>1247</th>\n",
              "      <td>b000j588g4</td>\n",
              "      <td>photo explosion 3.0</td>\n",
              "      <td>photo explosion 3.0</td>\n",
              "      <td>29.99</td>\n",
              "    </tr>\n",
              "  </tbody>\n",
              "</table>\n",
              "<p>1248 rows × 4 columns</p>\n",
              "</div>\n",
              "      <button class=\"colab-df-convert\" onclick=\"convertToInteractive('df-4f7d3aec-0f4e-4990-99d6-98eaf5269633')\"\n",
              "              title=\"Convert this dataframe to an interactive table.\"\n",
              "              style=\"display:none;\">\n",
              "        \n",
              "  <svg xmlns=\"http://www.w3.org/2000/svg\" height=\"24px\"viewBox=\"0 0 24 24\"\n",
              "       width=\"24px\">\n",
              "    <path d=\"M0 0h24v24H0V0z\" fill=\"none\"/>\n",
              "    <path d=\"M18.56 5.44l.94 2.06.94-2.06 2.06-.94-2.06-.94-.94-2.06-.94 2.06-2.06.94zm-11 1L8.5 8.5l.94-2.06 2.06-.94-2.06-.94L8.5 2.5l-.94 2.06-2.06.94zm10 10l.94 2.06.94-2.06 2.06-.94-2.06-.94-.94-2.06-.94 2.06-2.06.94z\"/><path d=\"M17.41 7.96l-1.37-1.37c-.4-.4-.92-.59-1.43-.59-.52 0-1.04.2-1.43.59L10.3 9.45l-7.72 7.72c-.78.78-.78 2.05 0 2.83L4 21.41c.39.39.9.59 1.41.59.51 0 1.02-.2 1.41-.59l7.78-7.78 2.81-2.81c.8-.78.8-2.07 0-2.86zM5.41 20L4 18.59l7.72-7.72 1.47 1.35L5.41 20z\"/>\n",
              "  </svg>\n",
              "      </button>\n",
              "      \n",
              "  <style>\n",
              "    .colab-df-container {\n",
              "      display:flex;\n",
              "      flex-wrap:wrap;\n",
              "      gap: 12px;\n",
              "    }\n",
              "\n",
              "    .colab-df-convert {\n",
              "      background-color: #E8F0FE;\n",
              "      border: none;\n",
              "      border-radius: 50%;\n",
              "      cursor: pointer;\n",
              "      display: none;\n",
              "      fill: #1967D2;\n",
              "      height: 32px;\n",
              "      padding: 0 0 0 0;\n",
              "      width: 32px;\n",
              "    }\n",
              "\n",
              "    .colab-df-convert:hover {\n",
              "      background-color: #E2EBFA;\n",
              "      box-shadow: 0px 1px 2px rgba(60, 64, 67, 0.3), 0px 1px 3px 1px rgba(60, 64, 67, 0.15);\n",
              "      fill: #174EA6;\n",
              "    }\n",
              "\n",
              "    [theme=dark] .colab-df-convert {\n",
              "      background-color: #3B4455;\n",
              "      fill: #D2E3FC;\n",
              "    }\n",
              "\n",
              "    [theme=dark] .colab-df-convert:hover {\n",
              "      background-color: #434B5C;\n",
              "      box-shadow: 0px 1px 3px 1px rgba(0, 0, 0, 0.15);\n",
              "      filter: drop-shadow(0px 1px 2px rgba(0, 0, 0, 0.3));\n",
              "      fill: #FFFFFF;\n",
              "    }\n",
              "  </style>\n",
              "\n",
              "      <script>\n",
              "        const buttonEl =\n",
              "          document.querySelector('#df-4f7d3aec-0f4e-4990-99d6-98eaf5269633 button.colab-df-convert');\n",
              "        buttonEl.style.display =\n",
              "          google.colab.kernel.accessAllowed ? 'block' : 'none';\n",
              "\n",
              "        async function convertToInteractive(key) {\n",
              "          const element = document.querySelector('#df-4f7d3aec-0f4e-4990-99d6-98eaf5269633');\n",
              "          const dataTable =\n",
              "            await google.colab.kernel.invokeFunction('convertToInteractive',\n",
              "                                                     [key], {});\n",
              "          if (!dataTable) return;\n",
              "\n",
              "          const docLinkHtml = 'Like what you see? Visit the ' +\n",
              "            '<a target=\"_blank\" href=https://colab.research.google.com/notebooks/data_table.ipynb>data table notebook</a>'\n",
              "            + ' to learn more about interactive tables.';\n",
              "          element.innerHTML = '';\n",
              "          dataTable['output_type'] = 'display_data';\n",
              "          await google.colab.output.renderOutput(dataTable, element);\n",
              "          const docLink = document.createElement('div');\n",
              "          docLink.innerHTML = docLinkHtml;\n",
              "          element.appendChild(docLink);\n",
              "        }\n",
              "      </script>\n",
              "    </div>\n",
              "  </div>\n",
              "  "
            ]
          },
          "metadata": {},
          "execution_count": 22
        }
      ],
      "source": [
        "am"
      ],
      "id": "c47d448e"
    },
    {
      "cell_type": "code",
      "execution_count": 23,
      "metadata": {
        "colab": {
          "base_uri": "https://localhost:8080/",
          "height": 424
        },
        "id": "1aad4938",
        "outputId": "b9096c5e-c3fb-4793-810b-7b6e6530a7ae"
      },
      "outputs": [
        {
          "output_type": "execute_result",
          "data": {
            "text/plain": [
              "                                                   g_id  \\\n",
              "0     http://www.google.com/base/feeds/snippets/1112...   \n",
              "1     http://www.google.com/base/feeds/snippets/1153...   \n",
              "2     http://www.google.com/base/feeds/snippets/1134...   \n",
              "3     http://www.google.com/base/feeds/snippets/1204...   \n",
              "4     http://www.google.com/base/feeds/snippets/1224...   \n",
              "...                                                 ...   \n",
              "3030  http://www.google.com/base/feeds/snippets/1487...   \n",
              "3031  http://www.google.com/base/feeds/snippets/1491...   \n",
              "3032  http://www.google.com/base/feeds/snippets/1497...   \n",
              "3033  http://www.google.com/base/feeds/snippets/1498...   \n",
              "3034  http://www.google.com/base/feeds/snippets/1499...   \n",
              "\n",
              "                                               g_ititle  \\\n",
              "0                              learning quickbooks 2007   \n",
              "1               superstart! fun with reading & writing!   \n",
              "2                             qb pos 6.0 basic software   \n",
              "3     math missions: the amazing arcade adventure (g...   \n",
              "4                        production prem cs3 mac upgrad   \n",
              "...                                                 ...   \n",
              "3030                    jumpstart(r) advanced 1st grade   \n",
              "3031             ibm(r) viavoice(r) advanced edition 10   \n",
              "3032                             xbox 360: gears of war   \n",
              "3033                        documents to go premium 7.0   \n",
              "3034     microsoft(r) picture it! digital image pro 9.0   \n",
              "\n",
              "                                          g_description g_price  \n",
              "0                              learning quickbooks 2007   38.99  \n",
              "1     fun with reading & writing! is designed to hel...    8.49  \n",
              "2     qb pos 6.0 basic retail mngmt software. for re...  637.99  \n",
              "3     save spectacle city by disrupting randall unde...   12.95  \n",
              "4     adobe cs3 production premium mac upgrade from ...  805.99  \n",
              "...                                                 ...     ...  \n",
              "3030  prepare your child for the 1st grade and beyon...   19.99  \n",
              "3031  ibm viavoice advanced edition release 10 is a ...   78.95  \n",
              "3032  as marcus fenix you fight a war against the im...   59.99  \n",
              "3033  this pda software enables you to use your docu...   49.99  \n",
              "3034  picture it! digital image pro puts you in cont...   99.87  \n",
              "\n",
              "[3035 rows x 4 columns]"
            ],
            "text/html": [
              "\n",
              "  <div id=\"df-2664aa8e-ee54-4d84-8e50-b7d2f1b1485c\">\n",
              "    <div class=\"colab-df-container\">\n",
              "      <div>\n",
              "<style scoped>\n",
              "    .dataframe tbody tr th:only-of-type {\n",
              "        vertical-align: middle;\n",
              "    }\n",
              "\n",
              "    .dataframe tbody tr th {\n",
              "        vertical-align: top;\n",
              "    }\n",
              "\n",
              "    .dataframe thead th {\n",
              "        text-align: right;\n",
              "    }\n",
              "</style>\n",
              "<table border=\"1\" class=\"dataframe\">\n",
              "  <thead>\n",
              "    <tr style=\"text-align: right;\">\n",
              "      <th></th>\n",
              "      <th>g_id</th>\n",
              "      <th>g_ititle</th>\n",
              "      <th>g_description</th>\n",
              "      <th>g_price</th>\n",
              "    </tr>\n",
              "  </thead>\n",
              "  <tbody>\n",
              "    <tr>\n",
              "      <th>0</th>\n",
              "      <td>http://www.google.com/base/feeds/snippets/1112...</td>\n",
              "      <td>learning quickbooks 2007</td>\n",
              "      <td>learning quickbooks 2007</td>\n",
              "      <td>38.99</td>\n",
              "    </tr>\n",
              "    <tr>\n",
              "      <th>1</th>\n",
              "      <td>http://www.google.com/base/feeds/snippets/1153...</td>\n",
              "      <td>superstart! fun with reading &amp; writing!</td>\n",
              "      <td>fun with reading &amp; writing! is designed to hel...</td>\n",
              "      <td>8.49</td>\n",
              "    </tr>\n",
              "    <tr>\n",
              "      <th>2</th>\n",
              "      <td>http://www.google.com/base/feeds/snippets/1134...</td>\n",
              "      <td>qb pos 6.0 basic software</td>\n",
              "      <td>qb pos 6.0 basic retail mngmt software. for re...</td>\n",
              "      <td>637.99</td>\n",
              "    </tr>\n",
              "    <tr>\n",
              "      <th>3</th>\n",
              "      <td>http://www.google.com/base/feeds/snippets/1204...</td>\n",
              "      <td>math missions: the amazing arcade adventure (g...</td>\n",
              "      <td>save spectacle city by disrupting randall unde...</td>\n",
              "      <td>12.95</td>\n",
              "    </tr>\n",
              "    <tr>\n",
              "      <th>4</th>\n",
              "      <td>http://www.google.com/base/feeds/snippets/1224...</td>\n",
              "      <td>production prem cs3 mac upgrad</td>\n",
              "      <td>adobe cs3 production premium mac upgrade from ...</td>\n",
              "      <td>805.99</td>\n",
              "    </tr>\n",
              "    <tr>\n",
              "      <th>...</th>\n",
              "      <td>...</td>\n",
              "      <td>...</td>\n",
              "      <td>...</td>\n",
              "      <td>...</td>\n",
              "    </tr>\n",
              "    <tr>\n",
              "      <th>3030</th>\n",
              "      <td>http://www.google.com/base/feeds/snippets/1487...</td>\n",
              "      <td>jumpstart(r) advanced 1st grade</td>\n",
              "      <td>prepare your child for the 1st grade and beyon...</td>\n",
              "      <td>19.99</td>\n",
              "    </tr>\n",
              "    <tr>\n",
              "      <th>3031</th>\n",
              "      <td>http://www.google.com/base/feeds/snippets/1491...</td>\n",
              "      <td>ibm(r) viavoice(r) advanced edition 10</td>\n",
              "      <td>ibm viavoice advanced edition release 10 is a ...</td>\n",
              "      <td>78.95</td>\n",
              "    </tr>\n",
              "    <tr>\n",
              "      <th>3032</th>\n",
              "      <td>http://www.google.com/base/feeds/snippets/1497...</td>\n",
              "      <td>xbox 360: gears of war</td>\n",
              "      <td>as marcus fenix you fight a war against the im...</td>\n",
              "      <td>59.99</td>\n",
              "    </tr>\n",
              "    <tr>\n",
              "      <th>3033</th>\n",
              "      <td>http://www.google.com/base/feeds/snippets/1498...</td>\n",
              "      <td>documents to go premium 7.0</td>\n",
              "      <td>this pda software enables you to use your docu...</td>\n",
              "      <td>49.99</td>\n",
              "    </tr>\n",
              "    <tr>\n",
              "      <th>3034</th>\n",
              "      <td>http://www.google.com/base/feeds/snippets/1499...</td>\n",
              "      <td>microsoft(r) picture it! digital image pro 9.0</td>\n",
              "      <td>picture it! digital image pro puts you in cont...</td>\n",
              "      <td>99.87</td>\n",
              "    </tr>\n",
              "  </tbody>\n",
              "</table>\n",
              "<p>3035 rows × 4 columns</p>\n",
              "</div>\n",
              "      <button class=\"colab-df-convert\" onclick=\"convertToInteractive('df-2664aa8e-ee54-4d84-8e50-b7d2f1b1485c')\"\n",
              "              title=\"Convert this dataframe to an interactive table.\"\n",
              "              style=\"display:none;\">\n",
              "        \n",
              "  <svg xmlns=\"http://www.w3.org/2000/svg\" height=\"24px\"viewBox=\"0 0 24 24\"\n",
              "       width=\"24px\">\n",
              "    <path d=\"M0 0h24v24H0V0z\" fill=\"none\"/>\n",
              "    <path d=\"M18.56 5.44l.94 2.06.94-2.06 2.06-.94-2.06-.94-.94-2.06-.94 2.06-2.06.94zm-11 1L8.5 8.5l.94-2.06 2.06-.94-2.06-.94L8.5 2.5l-.94 2.06-2.06.94zm10 10l.94 2.06.94-2.06 2.06-.94-2.06-.94-.94-2.06-.94 2.06-2.06.94z\"/><path d=\"M17.41 7.96l-1.37-1.37c-.4-.4-.92-.59-1.43-.59-.52 0-1.04.2-1.43.59L10.3 9.45l-7.72 7.72c-.78.78-.78 2.05 0 2.83L4 21.41c.39.39.9.59 1.41.59.51 0 1.02-.2 1.41-.59l7.78-7.78 2.81-2.81c.8-.78.8-2.07 0-2.86zM5.41 20L4 18.59l7.72-7.72 1.47 1.35L5.41 20z\"/>\n",
              "  </svg>\n",
              "      </button>\n",
              "      \n",
              "  <style>\n",
              "    .colab-df-container {\n",
              "      display:flex;\n",
              "      flex-wrap:wrap;\n",
              "      gap: 12px;\n",
              "    }\n",
              "\n",
              "    .colab-df-convert {\n",
              "      background-color: #E8F0FE;\n",
              "      border: none;\n",
              "      border-radius: 50%;\n",
              "      cursor: pointer;\n",
              "      display: none;\n",
              "      fill: #1967D2;\n",
              "      height: 32px;\n",
              "      padding: 0 0 0 0;\n",
              "      width: 32px;\n",
              "    }\n",
              "\n",
              "    .colab-df-convert:hover {\n",
              "      background-color: #E2EBFA;\n",
              "      box-shadow: 0px 1px 2px rgba(60, 64, 67, 0.3), 0px 1px 3px 1px rgba(60, 64, 67, 0.15);\n",
              "      fill: #174EA6;\n",
              "    }\n",
              "\n",
              "    [theme=dark] .colab-df-convert {\n",
              "      background-color: #3B4455;\n",
              "      fill: #D2E3FC;\n",
              "    }\n",
              "\n",
              "    [theme=dark] .colab-df-convert:hover {\n",
              "      background-color: #434B5C;\n",
              "      box-shadow: 0px 1px 3px 1px rgba(0, 0, 0, 0.15);\n",
              "      filter: drop-shadow(0px 1px 2px rgba(0, 0, 0, 0.3));\n",
              "      fill: #FFFFFF;\n",
              "    }\n",
              "  </style>\n",
              "\n",
              "      <script>\n",
              "        const buttonEl =\n",
              "          document.querySelector('#df-2664aa8e-ee54-4d84-8e50-b7d2f1b1485c button.colab-df-convert');\n",
              "        buttonEl.style.display =\n",
              "          google.colab.kernel.accessAllowed ? 'block' : 'none';\n",
              "\n",
              "        async function convertToInteractive(key) {\n",
              "          const element = document.querySelector('#df-2664aa8e-ee54-4d84-8e50-b7d2f1b1485c');\n",
              "          const dataTable =\n",
              "            await google.colab.kernel.invokeFunction('convertToInteractive',\n",
              "                                                     [key], {});\n",
              "          if (!dataTable) return;\n",
              "\n",
              "          const docLinkHtml = 'Like what you see? Visit the ' +\n",
              "            '<a target=\"_blank\" href=https://colab.research.google.com/notebooks/data_table.ipynb>data table notebook</a>'\n",
              "            + ' to learn more about interactive tables.';\n",
              "          element.innerHTML = '';\n",
              "          dataTable['output_type'] = 'display_data';\n",
              "          await google.colab.output.renderOutput(dataTable, element);\n",
              "          const docLink = document.createElement('div');\n",
              "          docLink.innerHTML = docLinkHtml;\n",
              "          element.appendChild(docLink);\n",
              "        }\n",
              "      </script>\n",
              "    </div>\n",
              "  </div>\n",
              "  "
            ]
          },
          "metadata": {},
          "execution_count": 23
        }
      ],
      "source": [
        "go"
      ],
      "id": "1aad4938"
    },
    {
      "cell_type": "code",
      "execution_count": 24,
      "metadata": {
        "colab": {
          "base_uri": "https://localhost:8080/",
          "height": 424
        },
        "id": "2e03c9f4",
        "outputId": "3b769aa4-a5b4-4569-fbe6-2b92218b79d6"
      },
      "outputs": [
        {
          "output_type": "execute_result",
          "data": {
            "text/plain": [
              "        idAmazon                                       idGoogleBase\n",
              "0     b000jz4hqo  http://www.google.com/base/feeds/snippets/1844...\n",
              "1     b00004tkvy  http://www.google.com/base/feeds/snippets/1844...\n",
              "2     b000g80lqo  http://www.google.com/base/feeds/snippets/1844...\n",
              "3     b0006se5bq  http://www.google.com/base/feeds/snippets/1842...\n",
              "4     b00021xhzw  http://www.google.com/base/feeds/snippets/1843...\n",
              "...          ...                                                ...\n",
              "1295  b00005bigp  http://www.google.com/base/feeds/snippets/1773...\n",
              "1296  b000h1df7w  http://www.google.com/base/feeds/snippets/1773...\n",
              "1297  b000p9cr66  http://www.google.com/base/feeds/snippets/1772...\n",
              "1298  b000p9cr66  http://www.google.com/base/feeds/snippets/1321...\n",
              "1299  b000j588g4  http://www.google.com/base/feeds/snippets/1773...\n",
              "\n",
              "[1300 rows x 2 columns]"
            ],
            "text/html": [
              "\n",
              "  <div id=\"df-60390f57-7601-4f72-8ac5-b8e87f843d9a\">\n",
              "    <div class=\"colab-df-container\">\n",
              "      <div>\n",
              "<style scoped>\n",
              "    .dataframe tbody tr th:only-of-type {\n",
              "        vertical-align: middle;\n",
              "    }\n",
              "\n",
              "    .dataframe tbody tr th {\n",
              "        vertical-align: top;\n",
              "    }\n",
              "\n",
              "    .dataframe thead th {\n",
              "        text-align: right;\n",
              "    }\n",
              "</style>\n",
              "<table border=\"1\" class=\"dataframe\">\n",
              "  <thead>\n",
              "    <tr style=\"text-align: right;\">\n",
              "      <th></th>\n",
              "      <th>idAmazon</th>\n",
              "      <th>idGoogleBase</th>\n",
              "    </tr>\n",
              "  </thead>\n",
              "  <tbody>\n",
              "    <tr>\n",
              "      <th>0</th>\n",
              "      <td>b000jz4hqo</td>\n",
              "      <td>http://www.google.com/base/feeds/snippets/1844...</td>\n",
              "    </tr>\n",
              "    <tr>\n",
              "      <th>1</th>\n",
              "      <td>b00004tkvy</td>\n",
              "      <td>http://www.google.com/base/feeds/snippets/1844...</td>\n",
              "    </tr>\n",
              "    <tr>\n",
              "      <th>2</th>\n",
              "      <td>b000g80lqo</td>\n",
              "      <td>http://www.google.com/base/feeds/snippets/1844...</td>\n",
              "    </tr>\n",
              "    <tr>\n",
              "      <th>3</th>\n",
              "      <td>b0006se5bq</td>\n",
              "      <td>http://www.google.com/base/feeds/snippets/1842...</td>\n",
              "    </tr>\n",
              "    <tr>\n",
              "      <th>4</th>\n",
              "      <td>b00021xhzw</td>\n",
              "      <td>http://www.google.com/base/feeds/snippets/1843...</td>\n",
              "    </tr>\n",
              "    <tr>\n",
              "      <th>...</th>\n",
              "      <td>...</td>\n",
              "      <td>...</td>\n",
              "    </tr>\n",
              "    <tr>\n",
              "      <th>1295</th>\n",
              "      <td>b00005bigp</td>\n",
              "      <td>http://www.google.com/base/feeds/snippets/1773...</td>\n",
              "    </tr>\n",
              "    <tr>\n",
              "      <th>1296</th>\n",
              "      <td>b000h1df7w</td>\n",
              "      <td>http://www.google.com/base/feeds/snippets/1773...</td>\n",
              "    </tr>\n",
              "    <tr>\n",
              "      <th>1297</th>\n",
              "      <td>b000p9cr66</td>\n",
              "      <td>http://www.google.com/base/feeds/snippets/1772...</td>\n",
              "    </tr>\n",
              "    <tr>\n",
              "      <th>1298</th>\n",
              "      <td>b000p9cr66</td>\n",
              "      <td>http://www.google.com/base/feeds/snippets/1321...</td>\n",
              "    </tr>\n",
              "    <tr>\n",
              "      <th>1299</th>\n",
              "      <td>b000j588g4</td>\n",
              "      <td>http://www.google.com/base/feeds/snippets/1773...</td>\n",
              "    </tr>\n",
              "  </tbody>\n",
              "</table>\n",
              "<p>1300 rows × 2 columns</p>\n",
              "</div>\n",
              "      <button class=\"colab-df-convert\" onclick=\"convertToInteractive('df-60390f57-7601-4f72-8ac5-b8e87f843d9a')\"\n",
              "              title=\"Convert this dataframe to an interactive table.\"\n",
              "              style=\"display:none;\">\n",
              "        \n",
              "  <svg xmlns=\"http://www.w3.org/2000/svg\" height=\"24px\"viewBox=\"0 0 24 24\"\n",
              "       width=\"24px\">\n",
              "    <path d=\"M0 0h24v24H0V0z\" fill=\"none\"/>\n",
              "    <path d=\"M18.56 5.44l.94 2.06.94-2.06 2.06-.94-2.06-.94-.94-2.06-.94 2.06-2.06.94zm-11 1L8.5 8.5l.94-2.06 2.06-.94-2.06-.94L8.5 2.5l-.94 2.06-2.06.94zm10 10l.94 2.06.94-2.06 2.06-.94-2.06-.94-.94-2.06-.94 2.06-2.06.94z\"/><path d=\"M17.41 7.96l-1.37-1.37c-.4-.4-.92-.59-1.43-.59-.52 0-1.04.2-1.43.59L10.3 9.45l-7.72 7.72c-.78.78-.78 2.05 0 2.83L4 21.41c.39.39.9.59 1.41.59.51 0 1.02-.2 1.41-.59l7.78-7.78 2.81-2.81c.8-.78.8-2.07 0-2.86zM5.41 20L4 18.59l7.72-7.72 1.47 1.35L5.41 20z\"/>\n",
              "  </svg>\n",
              "      </button>\n",
              "      \n",
              "  <style>\n",
              "    .colab-df-container {\n",
              "      display:flex;\n",
              "      flex-wrap:wrap;\n",
              "      gap: 12px;\n",
              "    }\n",
              "\n",
              "    .colab-df-convert {\n",
              "      background-color: #E8F0FE;\n",
              "      border: none;\n",
              "      border-radius: 50%;\n",
              "      cursor: pointer;\n",
              "      display: none;\n",
              "      fill: #1967D2;\n",
              "      height: 32px;\n",
              "      padding: 0 0 0 0;\n",
              "      width: 32px;\n",
              "    }\n",
              "\n",
              "    .colab-df-convert:hover {\n",
              "      background-color: #E2EBFA;\n",
              "      box-shadow: 0px 1px 2px rgba(60, 64, 67, 0.3), 0px 1px 3px 1px rgba(60, 64, 67, 0.15);\n",
              "      fill: #174EA6;\n",
              "    }\n",
              "\n",
              "    [theme=dark] .colab-df-convert {\n",
              "      background-color: #3B4455;\n",
              "      fill: #D2E3FC;\n",
              "    }\n",
              "\n",
              "    [theme=dark] .colab-df-convert:hover {\n",
              "      background-color: #434B5C;\n",
              "      box-shadow: 0px 1px 3px 1px rgba(0, 0, 0, 0.15);\n",
              "      filter: drop-shadow(0px 1px 2px rgba(0, 0, 0, 0.3));\n",
              "      fill: #FFFFFF;\n",
              "    }\n",
              "  </style>\n",
              "\n",
              "      <script>\n",
              "        const buttonEl =\n",
              "          document.querySelector('#df-60390f57-7601-4f72-8ac5-b8e87f843d9a button.colab-df-convert');\n",
              "        buttonEl.style.display =\n",
              "          google.colab.kernel.accessAllowed ? 'block' : 'none';\n",
              "\n",
              "        async function convertToInteractive(key) {\n",
              "          const element = document.querySelector('#df-60390f57-7601-4f72-8ac5-b8e87f843d9a');\n",
              "          const dataTable =\n",
              "            await google.colab.kernel.invokeFunction('convertToInteractive',\n",
              "                                                     [key], {});\n",
              "          if (!dataTable) return;\n",
              "\n",
              "          const docLinkHtml = 'Like what you see? Visit the ' +\n",
              "            '<a target=\"_blank\" href=https://colab.research.google.com/notebooks/data_table.ipynb>data table notebook</a>'\n",
              "            + ' to learn more about interactive tables.';\n",
              "          element.innerHTML = '';\n",
              "          dataTable['output_type'] = 'display_data';\n",
              "          await google.colab.output.renderOutput(dataTable, element);\n",
              "          const docLink = document.createElement('div');\n",
              "          docLink.innerHTML = docLinkHtml;\n",
              "          element.appendChild(docLink);\n",
              "        }\n",
              "      </script>\n",
              "    </div>\n",
              "  </div>\n",
              "  "
            ]
          },
          "metadata": {},
          "execution_count": 24
        }
      ],
      "source": [
        "match"
      ],
      "id": "2e03c9f4"
    },
    {
      "cell_type": "markdown",
      "metadata": {
        "id": "j4G2FmHjCmXt"
      },
      "source": [
        "## **Data Cleaning**"
      ],
      "id": "j4G2FmHjCmXt"
    },
    {
      "cell_type": "code",
      "execution_count": 25,
      "metadata": {
        "id": "ad7cdee5"
      },
      "outputs": [],
      "source": [
        "#am\n",
        "newam = pd.DataFrame(np.repeat(am.values, len(go), axis=0))\n",
        "newam.columns = am.columns\n",
        "#go\n",
        "newgo = pd.concat([go[:len(go)]]*len(am), ignore_index=True)\n",
        "# adding newam and newgo along columns\n",
        "res = [newam, newgo]\n",
        "df = pd.concat(res, axis=1)"
      ],
      "id": "ad7cdee5"
    },
    {
      "cell_type": "code",
      "execution_count": 26,
      "metadata": {
        "colab": {
          "base_uri": "https://localhost:8080/"
        },
        "id": "4552fbd6",
        "outputId": "f4d209d4-b158-4a20-e0f3-60f71abb8c12"
      },
      "outputs": [
        {
          "output_type": "stream",
          "name": "stdout",
          "text": [
            "a_id              string\n",
            "a_title           string\n",
            "a_description     string\n",
            "a_price          Float64\n",
            "g_id              string\n",
            "g_ititle          string\n",
            "g_description     string\n",
            "g_price           string\n",
            "dtype: object\n"
          ]
        }
      ],
      "source": [
        "# Converting to proper datatypes by default \n",
        "df = df.convert_dtypes()\n",
        "print(df.dtypes)"
      ],
      "id": "4552fbd6"
    },
    {
      "cell_type": "code",
      "execution_count": 27,
      "metadata": {
        "id": "c94ec2d4"
      },
      "outputs": [],
      "source": [
        "a_list = df['a_id'].tolist()\n",
        "g_list = df['g_id'].tolist()\n",
        "# Function to merge two lists pair wise\n",
        "def merge(list1, list2):\n",
        "    merged_list = [[list1[i], list2[i]] for i in range(0, len(list1))]\n",
        "    return merged_list\n",
        "x = merge(a_list,g_list)\n",
        "ad = match['idAmazon'].tolist()\n",
        "gd = match['idGoogleBase'].tolist()\n",
        "y = merge(ad,gd)\n",
        "def find(lst1,lst2):\n",
        "    result = []\n",
        "    for i in tqdm(range(len(lst1))):\n",
        "        for j in range(len(lst2)):\n",
        "            if lst1[i]==lst2[j]:\n",
        "                result.append(i)\n",
        "            \n",
        "    return result"
      ],
      "id": "c94ec2d4"
    },
    {
      "cell_type": "code",
      "execution_count": 28,
      "metadata": {
        "colab": {
          "base_uri": "https://localhost:8080/"
        },
        "id": "b9efc8b4",
        "outputId": "d71a2d4d-c7e6-4953-b39f-0cc377fccaaf"
      },
      "outputs": [
        {
          "output_type": "stream",
          "name": "stderr",
          "text": [
            "100%|██████████| 3787680/3787680 [07:45<00:00, 8131.49it/s]\n"
          ]
        }
      ],
      "source": [
        "l = find(x,y)"
      ],
      "id": "b9efc8b4"
    },
    {
      "cell_type": "code",
      "execution_count": 29,
      "metadata": {
        "id": "6dd3255c",
        "colab": {
          "base_uri": "https://localhost:8080/"
        },
        "outputId": "00e1d010-325b-429d-e7c9-e87f42066315"
      },
      "outputs": [
        {
          "output_type": "stream",
          "name": "stderr",
          "text": [
            "100%|██████████| 1161/1161 [00:00<00:00, 1743.56it/s]\n",
            "100%|██████████| 1161/1161 [00:00<00:00, 1263.42it/s]\n"
          ]
        }
      ],
      "source": [
        "list_of_zeros = [0] * len(df)\n",
        "for i in tqdm(range(len(l))):\n",
        "    list_of_zeros.pop(l[i])\n",
        "list_of_zeros\n",
        "for i in tqdm(range(len(l))):\n",
        "    list_of_zeros.insert(l[i],1)\n",
        "df['match'] = list_of_zeros"
      ],
      "id": "6dd3255c"
    },
    {
      "cell_type": "code",
      "execution_count": 30,
      "metadata": {
        "colab": {
          "base_uri": "https://localhost:8080/",
          "height": 867
        },
        "id": "1d4ecc31",
        "outputId": "da14d61a-7f11-47fe-b826-8bd0e0f7a29a"
      },
      "outputs": [
        {
          "output_type": "execute_result",
          "data": {
            "text/plain": [
              "               a_id                                           a_title  \\\n",
              "0        b0006zf55o  ca international - arcserve lap/desktop oem 30pk   \n",
              "1        b0006zf55o  ca international - arcserve lap/desktop oem 30pk   \n",
              "2        b0006zf55o  ca international - arcserve lap/desktop oem 30pk   \n",
              "3        b0006zf55o  ca international - arcserve lap/desktop oem 30pk   \n",
              "4        b0006zf55o  ca international - arcserve lap/desktop oem 30pk   \n",
              "...             ...                                               ...   \n",
              "3787675  b000j588g4                               photo explosion 3.0   \n",
              "3787676  b000j588g4                               photo explosion 3.0   \n",
              "3787677  b000j588g4                               photo explosion 3.0   \n",
              "3787678  b000j588g4                               photo explosion 3.0   \n",
              "3787679  b000j588g4                               photo explosion 3.0   \n",
              "\n",
              "                                             a_description  a_price  \\\n",
              "0        oem arcserve backup v11.1 win 30u for laptops ...      0.0   \n",
              "1        oem arcserve backup v11.1 win 30u for laptops ...      0.0   \n",
              "2        oem arcserve backup v11.1 win 30u for laptops ...      0.0   \n",
              "3        oem arcserve backup v11.1 win 30u for laptops ...      0.0   \n",
              "4        oem arcserve backup v11.1 win 30u for laptops ...      0.0   \n",
              "...                                                    ...      ...   \n",
              "3787675                                photo explosion 3.0    29.99   \n",
              "3787676                                photo explosion 3.0    29.99   \n",
              "3787677                                photo explosion 3.0    29.99   \n",
              "3787678                                photo explosion 3.0    29.99   \n",
              "3787679                                photo explosion 3.0    29.99   \n",
              "\n",
              "                                                      g_id  \\\n",
              "0        http://www.google.com/base/feeds/snippets/1112...   \n",
              "1        http://www.google.com/base/feeds/snippets/1153...   \n",
              "2        http://www.google.com/base/feeds/snippets/1134...   \n",
              "3        http://www.google.com/base/feeds/snippets/1204...   \n",
              "4        http://www.google.com/base/feeds/snippets/1224...   \n",
              "...                                                    ...   \n",
              "3787675  http://www.google.com/base/feeds/snippets/1487...   \n",
              "3787676  http://www.google.com/base/feeds/snippets/1491...   \n",
              "3787677  http://www.google.com/base/feeds/snippets/1497...   \n",
              "3787678  http://www.google.com/base/feeds/snippets/1498...   \n",
              "3787679  http://www.google.com/base/feeds/snippets/1499...   \n",
              "\n",
              "                                                  g_ititle  \\\n",
              "0                                 learning quickbooks 2007   \n",
              "1                  superstart! fun with reading & writing!   \n",
              "2                                qb pos 6.0 basic software   \n",
              "3        math missions: the amazing arcade adventure (g...   \n",
              "4                           production prem cs3 mac upgrad   \n",
              "...                                                    ...   \n",
              "3787675                    jumpstart(r) advanced 1st grade   \n",
              "3787676             ibm(r) viavoice(r) advanced edition 10   \n",
              "3787677                             xbox 360: gears of war   \n",
              "3787678                        documents to go premium 7.0   \n",
              "3787679     microsoft(r) picture it! digital image pro 9.0   \n",
              "\n",
              "                                             g_description g_price  match  \n",
              "0                                 learning quickbooks 2007   38.99      0  \n",
              "1        fun with reading & writing! is designed to hel...    8.49      0  \n",
              "2        qb pos 6.0 basic retail mngmt software. for re...  637.99      0  \n",
              "3        save spectacle city by disrupting randall unde...   12.95      0  \n",
              "4        adobe cs3 production premium mac upgrade from ...  805.99      0  \n",
              "...                                                    ...     ...    ...  \n",
              "3787675  prepare your child for the 1st grade and beyon...   19.99      0  \n",
              "3787676  ibm viavoice advanced edition release 10 is a ...   78.95      0  \n",
              "3787677  as marcus fenix you fight a war against the im...   59.99      0  \n",
              "3787678  this pda software enables you to use your docu...   49.99      0  \n",
              "3787679  picture it! digital image pro puts you in cont...   99.87      0  \n",
              "\n",
              "[3787680 rows x 9 columns]"
            ],
            "text/html": [
              "\n",
              "  <div id=\"df-9f24681b-a8e5-4fcd-9ebf-df232d3f4e38\">\n",
              "    <div class=\"colab-df-container\">\n",
              "      <div>\n",
              "<style scoped>\n",
              "    .dataframe tbody tr th:only-of-type {\n",
              "        vertical-align: middle;\n",
              "    }\n",
              "\n",
              "    .dataframe tbody tr th {\n",
              "        vertical-align: top;\n",
              "    }\n",
              "\n",
              "    .dataframe thead th {\n",
              "        text-align: right;\n",
              "    }\n",
              "</style>\n",
              "<table border=\"1\" class=\"dataframe\">\n",
              "  <thead>\n",
              "    <tr style=\"text-align: right;\">\n",
              "      <th></th>\n",
              "      <th>a_id</th>\n",
              "      <th>a_title</th>\n",
              "      <th>a_description</th>\n",
              "      <th>a_price</th>\n",
              "      <th>g_id</th>\n",
              "      <th>g_ititle</th>\n",
              "      <th>g_description</th>\n",
              "      <th>g_price</th>\n",
              "      <th>match</th>\n",
              "    </tr>\n",
              "  </thead>\n",
              "  <tbody>\n",
              "    <tr>\n",
              "      <th>0</th>\n",
              "      <td>b0006zf55o</td>\n",
              "      <td>ca international - arcserve lap/desktop oem 30pk</td>\n",
              "      <td>oem arcserve backup v11.1 win 30u for laptops ...</td>\n",
              "      <td>0.0</td>\n",
              "      <td>http://www.google.com/base/feeds/snippets/1112...</td>\n",
              "      <td>learning quickbooks 2007</td>\n",
              "      <td>learning quickbooks 2007</td>\n",
              "      <td>38.99</td>\n",
              "      <td>0</td>\n",
              "    </tr>\n",
              "    <tr>\n",
              "      <th>1</th>\n",
              "      <td>b0006zf55o</td>\n",
              "      <td>ca international - arcserve lap/desktop oem 30pk</td>\n",
              "      <td>oem arcserve backup v11.1 win 30u for laptops ...</td>\n",
              "      <td>0.0</td>\n",
              "      <td>http://www.google.com/base/feeds/snippets/1153...</td>\n",
              "      <td>superstart! fun with reading &amp; writing!</td>\n",
              "      <td>fun with reading &amp; writing! is designed to hel...</td>\n",
              "      <td>8.49</td>\n",
              "      <td>0</td>\n",
              "    </tr>\n",
              "    <tr>\n",
              "      <th>2</th>\n",
              "      <td>b0006zf55o</td>\n",
              "      <td>ca international - arcserve lap/desktop oem 30pk</td>\n",
              "      <td>oem arcserve backup v11.1 win 30u for laptops ...</td>\n",
              "      <td>0.0</td>\n",
              "      <td>http://www.google.com/base/feeds/snippets/1134...</td>\n",
              "      <td>qb pos 6.0 basic software</td>\n",
              "      <td>qb pos 6.0 basic retail mngmt software. for re...</td>\n",
              "      <td>637.99</td>\n",
              "      <td>0</td>\n",
              "    </tr>\n",
              "    <tr>\n",
              "      <th>3</th>\n",
              "      <td>b0006zf55o</td>\n",
              "      <td>ca international - arcserve lap/desktop oem 30pk</td>\n",
              "      <td>oem arcserve backup v11.1 win 30u for laptops ...</td>\n",
              "      <td>0.0</td>\n",
              "      <td>http://www.google.com/base/feeds/snippets/1204...</td>\n",
              "      <td>math missions: the amazing arcade adventure (g...</td>\n",
              "      <td>save spectacle city by disrupting randall unde...</td>\n",
              "      <td>12.95</td>\n",
              "      <td>0</td>\n",
              "    </tr>\n",
              "    <tr>\n",
              "      <th>4</th>\n",
              "      <td>b0006zf55o</td>\n",
              "      <td>ca international - arcserve lap/desktop oem 30pk</td>\n",
              "      <td>oem arcserve backup v11.1 win 30u for laptops ...</td>\n",
              "      <td>0.0</td>\n",
              "      <td>http://www.google.com/base/feeds/snippets/1224...</td>\n",
              "      <td>production prem cs3 mac upgrad</td>\n",
              "      <td>adobe cs3 production premium mac upgrade from ...</td>\n",
              "      <td>805.99</td>\n",
              "      <td>0</td>\n",
              "    </tr>\n",
              "    <tr>\n",
              "      <th>...</th>\n",
              "      <td>...</td>\n",
              "      <td>...</td>\n",
              "      <td>...</td>\n",
              "      <td>...</td>\n",
              "      <td>...</td>\n",
              "      <td>...</td>\n",
              "      <td>...</td>\n",
              "      <td>...</td>\n",
              "      <td>...</td>\n",
              "    </tr>\n",
              "    <tr>\n",
              "      <th>3787675</th>\n",
              "      <td>b000j588g4</td>\n",
              "      <td>photo explosion 3.0</td>\n",
              "      <td>photo explosion 3.0</td>\n",
              "      <td>29.99</td>\n",
              "      <td>http://www.google.com/base/feeds/snippets/1487...</td>\n",
              "      <td>jumpstart(r) advanced 1st grade</td>\n",
              "      <td>prepare your child for the 1st grade and beyon...</td>\n",
              "      <td>19.99</td>\n",
              "      <td>0</td>\n",
              "    </tr>\n",
              "    <tr>\n",
              "      <th>3787676</th>\n",
              "      <td>b000j588g4</td>\n",
              "      <td>photo explosion 3.0</td>\n",
              "      <td>photo explosion 3.0</td>\n",
              "      <td>29.99</td>\n",
              "      <td>http://www.google.com/base/feeds/snippets/1491...</td>\n",
              "      <td>ibm(r) viavoice(r) advanced edition 10</td>\n",
              "      <td>ibm viavoice advanced edition release 10 is a ...</td>\n",
              "      <td>78.95</td>\n",
              "      <td>0</td>\n",
              "    </tr>\n",
              "    <tr>\n",
              "      <th>3787677</th>\n",
              "      <td>b000j588g4</td>\n",
              "      <td>photo explosion 3.0</td>\n",
              "      <td>photo explosion 3.0</td>\n",
              "      <td>29.99</td>\n",
              "      <td>http://www.google.com/base/feeds/snippets/1497...</td>\n",
              "      <td>xbox 360: gears of war</td>\n",
              "      <td>as marcus fenix you fight a war against the im...</td>\n",
              "      <td>59.99</td>\n",
              "      <td>0</td>\n",
              "    </tr>\n",
              "    <tr>\n",
              "      <th>3787678</th>\n",
              "      <td>b000j588g4</td>\n",
              "      <td>photo explosion 3.0</td>\n",
              "      <td>photo explosion 3.0</td>\n",
              "      <td>29.99</td>\n",
              "      <td>http://www.google.com/base/feeds/snippets/1498...</td>\n",
              "      <td>documents to go premium 7.0</td>\n",
              "      <td>this pda software enables you to use your docu...</td>\n",
              "      <td>49.99</td>\n",
              "      <td>0</td>\n",
              "    </tr>\n",
              "    <tr>\n",
              "      <th>3787679</th>\n",
              "      <td>b000j588g4</td>\n",
              "      <td>photo explosion 3.0</td>\n",
              "      <td>photo explosion 3.0</td>\n",
              "      <td>29.99</td>\n",
              "      <td>http://www.google.com/base/feeds/snippets/1499...</td>\n",
              "      <td>microsoft(r) picture it! digital image pro 9.0</td>\n",
              "      <td>picture it! digital image pro puts you in cont...</td>\n",
              "      <td>99.87</td>\n",
              "      <td>0</td>\n",
              "    </tr>\n",
              "  </tbody>\n",
              "</table>\n",
              "<p>3787680 rows × 9 columns</p>\n",
              "</div>\n",
              "      <button class=\"colab-df-convert\" onclick=\"convertToInteractive('df-9f24681b-a8e5-4fcd-9ebf-df232d3f4e38')\"\n",
              "              title=\"Convert this dataframe to an interactive table.\"\n",
              "              style=\"display:none;\">\n",
              "        \n",
              "  <svg xmlns=\"http://www.w3.org/2000/svg\" height=\"24px\"viewBox=\"0 0 24 24\"\n",
              "       width=\"24px\">\n",
              "    <path d=\"M0 0h24v24H0V0z\" fill=\"none\"/>\n",
              "    <path d=\"M18.56 5.44l.94 2.06.94-2.06 2.06-.94-2.06-.94-.94-2.06-.94 2.06-2.06.94zm-11 1L8.5 8.5l.94-2.06 2.06-.94-2.06-.94L8.5 2.5l-.94 2.06-2.06.94zm10 10l.94 2.06.94-2.06 2.06-.94-2.06-.94-.94-2.06-.94 2.06-2.06.94z\"/><path d=\"M17.41 7.96l-1.37-1.37c-.4-.4-.92-.59-1.43-.59-.52 0-1.04.2-1.43.59L10.3 9.45l-7.72 7.72c-.78.78-.78 2.05 0 2.83L4 21.41c.39.39.9.59 1.41.59.51 0 1.02-.2 1.41-.59l7.78-7.78 2.81-2.81c.8-.78.8-2.07 0-2.86zM5.41 20L4 18.59l7.72-7.72 1.47 1.35L5.41 20z\"/>\n",
              "  </svg>\n",
              "      </button>\n",
              "      \n",
              "  <style>\n",
              "    .colab-df-container {\n",
              "      display:flex;\n",
              "      flex-wrap:wrap;\n",
              "      gap: 12px;\n",
              "    }\n",
              "\n",
              "    .colab-df-convert {\n",
              "      background-color: #E8F0FE;\n",
              "      border: none;\n",
              "      border-radius: 50%;\n",
              "      cursor: pointer;\n",
              "      display: none;\n",
              "      fill: #1967D2;\n",
              "      height: 32px;\n",
              "      padding: 0 0 0 0;\n",
              "      width: 32px;\n",
              "    }\n",
              "\n",
              "    .colab-df-convert:hover {\n",
              "      background-color: #E2EBFA;\n",
              "      box-shadow: 0px 1px 2px rgba(60, 64, 67, 0.3), 0px 1px 3px 1px rgba(60, 64, 67, 0.15);\n",
              "      fill: #174EA6;\n",
              "    }\n",
              "\n",
              "    [theme=dark] .colab-df-convert {\n",
              "      background-color: #3B4455;\n",
              "      fill: #D2E3FC;\n",
              "    }\n",
              "\n",
              "    [theme=dark] .colab-df-convert:hover {\n",
              "      background-color: #434B5C;\n",
              "      box-shadow: 0px 1px 3px 1px rgba(0, 0, 0, 0.15);\n",
              "      filter: drop-shadow(0px 1px 2px rgba(0, 0, 0, 0.3));\n",
              "      fill: #FFFFFF;\n",
              "    }\n",
              "  </style>\n",
              "\n",
              "      <script>\n",
              "        const buttonEl =\n",
              "          document.querySelector('#df-9f24681b-a8e5-4fcd-9ebf-df232d3f4e38 button.colab-df-convert');\n",
              "        buttonEl.style.display =\n",
              "          google.colab.kernel.accessAllowed ? 'block' : 'none';\n",
              "\n",
              "        async function convertToInteractive(key) {\n",
              "          const element = document.querySelector('#df-9f24681b-a8e5-4fcd-9ebf-df232d3f4e38');\n",
              "          const dataTable =\n",
              "            await google.colab.kernel.invokeFunction('convertToInteractive',\n",
              "                                                     [key], {});\n",
              "          if (!dataTable) return;\n",
              "\n",
              "          const docLinkHtml = 'Like what you see? Visit the ' +\n",
              "            '<a target=\"_blank\" href=https://colab.research.google.com/notebooks/data_table.ipynb>data table notebook</a>'\n",
              "            + ' to learn more about interactive tables.';\n",
              "          element.innerHTML = '';\n",
              "          dataTable['output_type'] = 'display_data';\n",
              "          await google.colab.output.renderOutput(dataTable, element);\n",
              "          const docLink = document.createElement('div');\n",
              "          docLink.innerHTML = docLinkHtml;\n",
              "          element.appendChild(docLink);\n",
              "        }\n",
              "      </script>\n",
              "    </div>\n",
              "  </div>\n",
              "  "
            ]
          },
          "metadata": {},
          "execution_count": 30
        }
      ],
      "source": [
        "df"
      ],
      "id": "1d4ecc31"
    },
    {
      "cell_type": "code",
      "execution_count": 31,
      "metadata": {
        "colab": {
          "base_uri": "https://localhost:8080/"
        },
        "id": "1165392e",
        "outputId": "b40c456e-7939-4159-8092-ed13528bb9da"
      },
      "outputs": [
        {
          "output_type": "execute_result",
          "data": {
            "text/plain": [
              "0    3786519\n",
              "1       1161\n",
              "Name: match, dtype: int64"
            ]
          },
          "metadata": {},
          "execution_count": 31
        }
      ],
      "source": [
        "df.match.value_counts()"
      ],
      "id": "1165392e"
    },
    {
      "cell_type": "code",
      "execution_count": 32,
      "metadata": {
        "colab": {
          "base_uri": "https://localhost:8080/"
        },
        "id": "UMkhJW9thdjA",
        "outputId": "4a2184a6-c96b-468a-c680-98b2323baa48"
      },
      "outputs": [
        {
          "output_type": "stream",
          "name": "stdout",
          "text": [
            "<class 'pandas.core.frame.DataFrame'>\n",
            "RangeIndex: 3787680 entries, 0 to 3787679\n",
            "Data columns (total 9 columns):\n",
            " #   Column         Dtype  \n",
            "---  ------         -----  \n",
            " 0   a_id           string \n",
            " 1   a_title        string \n",
            " 2   a_description  string \n",
            " 3   a_price        Float64\n",
            " 4   g_id           string \n",
            " 5   g_ititle       string \n",
            " 6   g_description  string \n",
            " 7   g_price        string \n",
            " 8   match          int64  \n",
            "dtypes: Float64(1), int64(1), string(7)\n",
            "memory usage: 7.7 GB\n"
          ]
        }
      ],
      "source": [
        "df.info(memory_usage=\"deep\")"
      ],
      "id": "UMkhJW9thdjA"
    },
    {
      "cell_type": "markdown",
      "source": [
        "## **Text Preprocessing**"
      ],
      "metadata": {
        "id": "QnmOW3DCp4I2"
      },
      "id": "QnmOW3DCp4I2"
    },
    {
      "cell_type": "code",
      "source": [
        "df = df.drop(columns=[\"a_id\",\"g_id\",'a_price', 'g_price'])"
      ],
      "metadata": {
        "id": "fWQS4nVOvo3Q"
      },
      "id": "fWQS4nVOvo3Q",
      "execution_count": 33,
      "outputs": []
    },
    {
      "cell_type": "code",
      "source": [
        "# Removing punctuations\n",
        "data=df.iloc[:,0:4]\n",
        "data.replace(\"[^a-zA-Z]\",\" \",regex=True, inplace=True)"
      ],
      "metadata": {
        "id": "vWguNuAHswJy"
      },
      "id": "vWguNuAHswJy",
      "execution_count": null,
      "outputs": []
    },
    {
      "cell_type": "code",
      "source": [
        "data"
      ],
      "metadata": {
        "id": "0KxVN3VHp3Ln"
      },
      "id": "0KxVN3VHp3Ln",
      "execution_count": null,
      "outputs": []
    },
    {
      "cell_type": "code",
      "source": [
        "data.info(memory_usage=\"deep\")"
      ],
      "metadata": {
        "id": "hpFev3OLp3nd"
      },
      "id": "hpFev3OLp3nd",
      "execution_count": null,
      "outputs": []
    },
    {
      "cell_type": "markdown",
      "source": [
        "## **Handling Imbalanced Class Labels**"
      ],
      "metadata": {
        "id": "mGjIknJN0zCL"
      },
      "id": "mGjIknJN0zCL"
    },
    {
      "cell_type": "code",
      "source": [],
      "metadata": {
        "id": "fdStbczf065S"
      },
      "id": "fdStbczf065S",
      "execution_count": null,
      "outputs": []
    },
    {
      "cell_type": "markdown",
      "metadata": {
        "id": "zXcMtUGOUTkg"
      },
      "source": [
        "## **Trying LSTM**"
      ],
      "id": "zXcMtUGOUTkg"
    },
    {
      "cell_type": "markdown",
      "source": [
        "## **Processing with 'Title' column**"
      ],
      "metadata": {
        "id": "xdxlYGMN1lnc"
      },
      "id": "xdxlYGMN1lnc"
    },
    {
      "cell_type": "code",
      "execution_count": null,
      "metadata": {
        "colab": {
          "base_uri": "https://localhost:8080/",
          "height": 367
        },
        "id": "nNj9_Q5Is1v8",
        "outputId": "1f61fe39-8153-4aab-e3b3-f931c51742f5"
      },
      "outputs": [
        {
          "output_type": "stream",
          "name": "stderr",
          "text": [
            "/usr/local/lib/python3.7/dist-packages/seaborn/_decorators.py:43: FutureWarning: Pass the following variable as a keyword arg: x. From version 0.12, the only valid positional argument will be `data`, and passing other arguments without an explicit keyword will result in an error or misinterpretation.\n",
            "  FutureWarning\n"
          ]
        },
        {
          "output_type": "execute_result",
          "data": {
            "text/plain": [
              "Text(0.5, 1.0, 'Number of matches and non matches')"
            ]
          },
          "metadata": {},
          "execution_count": 47
        },
        {
          "output_type": "display_data",
          "data": {
            "text/plain": [
              "<Figure size 432x288 with 1 Axes>"
            ],
            "image/png": "[encoded data removed]"
          },
          "metadata": {
            "needs_background": "light"
          }
        }
      ],
      "source": [
        "sns.countplot(df.match)\n",
        "plt.xlabel('Label')\n",
        "plt.title('Number of matches and non matches')"
      ],
      "id": "nNj9_Q5Is1v8"
    },
    {
      "cell_type": "markdown",
      "metadata": {
        "id": "zh93i_kyT_9A"
      },
      "source": [
        "### We see that the class labels are extremely imbalanced."
      ],
      "id": "zh93i_kyT_9A"
    },
    {
      "cell_type": "markdown",
      "metadata": {
        "id": "KRxfy-tlUK9o"
      },
      "source": [
        "## Input and Output"
      ],
      "id": "KRxfy-tlUK9o"
    },
    {
      "cell_type": "code",
      "execution_count": null,
      "metadata": {
        "colab": {
          "base_uri": "https://localhost:8080/"
        },
        "id": "83_HybNJX3_U",
        "outputId": "904b2091-04ab-4270-e1d2-7905c8b3fcb9"
      },
      "outputs": [
        {
          "output_type": "execute_result",
          "data": {
            "text/plain": [
              "Index(['a_id', 'a_title', 'a_description', 'a_price', 'g_id', 'g_ititle',\n",
              "       'g_description', 'g_price', 'match'],\n",
              "      dtype='object')"
            ]
          },
          "metadata": {},
          "execution_count": 48
        }
      ],
      "source": [
        "df.columns"
      ],
      "id": "83_HybNJX3_U"
    },
    {
      "cell_type": "code",
      "execution_count": null,
      "metadata": {
        "id": "ZBISdOrXXvOr"
      },
      "outputs": [],
      "source": [
        "X = df.a_title\n",
        "Y = df.match\n",
        "le = LabelEncoder()\n",
        "Y = le.fit_transform(Y)\n",
        "Y = Y.reshape(-1,1)"
      ],
      "id": "ZBISdOrXXvOr"
    },
    {
      "cell_type": "markdown",
      "metadata": {
        "id": "HqXKu140YCz1"
      },
      "source": [
        "## Splitting into training and test set"
      ],
      "id": "HqXKu140YCz1"
    },
    {
      "cell_type": "code",
      "execution_count": null,
      "metadata": {
        "id": "FAhSB_I5YHpX"
      },
      "outputs": [],
      "source": [
        "X_train,X_test,Y_train,Y_test = train_test_split(X,Y,test_size=0.15)"
      ],
      "id": "FAhSB_I5YHpX"
    },
    {
      "cell_type": "markdown",
      "metadata": {
        "id": "Q1S87wYTYTMf"
      },
      "source": [
        "Process the data\n",
        "\n",
        "Tokenize the data and convert the text to sequences.\n",
        "Add padding to ensure that all the sequences have the same shape.\n",
        "There are many ways of taking the max_len and here an arbitrary length of 150 is chosen."
      ],
      "id": "Q1S87wYTYTMf"
    },
    {
      "cell_type": "code",
      "execution_count": null,
      "metadata": {
        "id": "rR4bps2YYaVJ"
      },
      "outputs": [],
      "source": [
        "max_words = 1000\n",
        "max_len = 150\n",
        "tok = Tokenizer(num_words=max_words)\n",
        "tok.fit_on_texts(X_train)\n",
        "sequences = tok.texts_to_sequences(X_train)\n",
        "sequences_matrix = sequence.pad_sequences(sequences,maxlen=max_len)"
      ],
      "id": "rR4bps2YYaVJ"
    },
    {
      "cell_type": "markdown",
      "metadata": {
        "id": "W5ZbtG3kYjYF"
      },
      "source": [
        "**RNN**\n",
        "\n",
        "Define the RNN structure."
      ],
      "id": "W5ZbtG3kYjYF"
    },
    {
      "cell_type": "code",
      "execution_count": null,
      "metadata": {
        "id": "u9FhM2c-YumX"
      },
      "outputs": [],
      "source": [
        "def RNN():\n",
        "    inputs = Input(name='inputs',shape=[max_len])\n",
        "    layer = Embedding(max_words,50,input_length=max_len)(inputs)\n",
        "    layer = LSTM(64)(layer)\n",
        "    layer = Dense(256,name='FC1')(layer)\n",
        "    layer = Activation('relu')(layer)\n",
        "    layer = Dropout(0.5)(layer)\n",
        "    layer = Dense(1,name='out_layer')(layer)\n",
        "    layer = Activation('sigmoid')(layer)\n",
        "    model = Model(inputs=inputs,outputs=layer)\n",
        "    return model"
      ],
      "id": "u9FhM2c-YumX"
    },
    {
      "cell_type": "code",
      "execution_count": null,
      "metadata": {
        "colab": {
          "base_uri": "https://localhost:8080/"
        },
        "id": "masMzn0rZCMz",
        "outputId": "248af6d7-1fa2-4859-c6ad-ec7592b0a11d"
      },
      "outputs": [
        {
          "output_type": "stream",
          "name": "stdout",
          "text": [
            "Model: \"model\"\n",
            "_________________________________________________________________\n",
            " Layer (type)                Output Shape              Param #   \n",
            "=================================================================\n",
            " inputs (InputLayer)         [(None, 150)]             0         \n",
            "                                                                 \n",
            " embedding (Embedding)       (None, 150, 50)           50000     \n",
            "                                                                 \n",
            " lstm (LSTM)                 (None, 64)                29440     \n",
            "                                                                 \n",
            " FC1 (Dense)                 (None, 256)               16640     \n",
            "                                                                 \n",
            " activation (Activation)     (None, 256)               0         \n",
            "                                                                 \n",
            " dropout (Dropout)           (None, 256)               0         \n",
            "                                                                 \n",
            " out_layer (Dense)           (None, 1)                 257       \n",
            "                                                                 \n",
            " activation_1 (Activation)   (None, 1)                 0         \n",
            "                                                                 \n",
            "=================================================================\n",
            "Total params: 96,337\n",
            "Trainable params: 96,337\n",
            "Non-trainable params: 0\n",
            "_________________________________________________________________\n"
          ]
        }
      ],
      "source": [
        "model = RNN()\n",
        "model.summary()\n",
        "model.compile(loss='binary_crossentropy',optimizer=RMSprop(),metrics=['accuracy'])"
      ],
      "id": "masMzn0rZCMz"
    },
    {
      "cell_type": "markdown",
      "metadata": {
        "id": "YCb3Te9hZGkF"
      },
      "source": [
        "## Fit on training Data"
      ],
      "id": "YCb3Te9hZGkF"
    },
    {
      "cell_type": "code",
      "execution_count": null,
      "metadata": {
        "colab": {
          "base_uri": "https://localhost:8080/"
        },
        "id": "GBBBWSWvZO0j",
        "outputId": "eeec1191-7e90-414b-da2f-55c6e26e21ac"
      },
      "outputs": [
        {
          "output_type": "stream",
          "name": "stdout",
          "text": [
            "Epoch 1/10\n",
            "20123/20123 [==============================] - 211s 10ms/step - loss: 0.0056 - accuracy: 0.9997 - val_loss: 0.0071 - val_accuracy: 0.9997\n",
            "Epoch 2/10\n",
            "20123/20123 [==============================] - 205s 10ms/step - loss: 0.0065 - accuracy: 0.9997 - val_loss: 0.0069 - val_accuracy: 0.9997\n"
          ]
        },
        {
          "output_type": "execute_result",
          "data": {
            "text/plain": [
              "<keras.callbacks.History at 0x7f728aa96a90>"
            ]
          },
          "metadata": {},
          "execution_count": 54
        }
      ],
      "source": [
        "model.fit(sequences_matrix,Y_train,batch_size=128,epochs=10,\n",
        "          validation_split=0.2,callbacks=[EarlyStopping(monitor='val_loss',min_delta=0.0001)])"
      ],
      "id": "GBBBWSWvZO0j"
    },
    {
      "cell_type": "code",
      "execution_count": null,
      "metadata": {
        "id": "XKIfYtRFZRxJ"
      },
      "outputs": [],
      "source": [
        "test_sequences = tok.texts_to_sequences(X_test)\n",
        "test_sequences_matrix = sequence.pad_sequences(test_sequences,maxlen=max_len)"
      ],
      "id": "XKIfYtRFZRxJ"
    },
    {
      "cell_type": "markdown",
      "source": [
        "## Applying on Test Data\n",
        "\n"
      ],
      "metadata": {
        "id": "Kgm3a6WOzQT_"
      },
      "id": "Kgm3a6WOzQT_"
    },
    {
      "cell_type": "code",
      "source": [
        "accr = model.evaluate(test_sequences_matrix,Y_test)"
      ],
      "metadata": {
        "colab": {
          "base_uri": "https://localhost:8080/"
        },
        "id": "kcCzsQpfzmOp",
        "outputId": "2c49866a-ac31-4f35-ace1-98e1df0ba000"
      },
      "id": "kcCzsQpfzmOp",
      "execution_count": null,
      "outputs": [
        {
          "output_type": "stream",
          "name": "stdout",
          "text": [
            "17755/17755 [==============================] - 72s 4ms/step - loss: 0.0058 - accuracy: 0.9997\n"
          ]
        }
      ]
    },
    {
      "cell_type": "code",
      "source": [
        "print('Test set\\n  Loss: {:0.3f}\\n  Accuracy: {:0.3f}'.format(accr[0],accr[1]))"
      ],
      "metadata": {
        "colab": {
          "base_uri": "https://localhost:8080/"
        },
        "id": "cYkFsF2MzpPh",
        "outputId": "84af06bc-8fc2-4f3f-b87e-1dc76ed2dc43"
      },
      "id": "cYkFsF2MzpPh",
      "execution_count": null,
      "outputs": [
        {
          "output_type": "stream",
          "name": "stdout",
          "text": [
            "Test set\n",
            "  Loss: 0.006\n",
            "  Accuracy: 1.000\n"
          ]
        }
      ]
    },
    {
      "cell_type": "markdown",
      "source": [
        "## **Processing with 'description' column**"
      ],
      "metadata": {
        "id": "nDLeQSe805RR"
      },
      "id": "nDLeQSe805RR"
    },
    {
      "cell_type": "code",
      "source": [
        "df.columns"
      ],
      "metadata": {
        "colab": {
          "base_uri": "https://localhost:8080/"
        },
        "id": "VfUdZ-Cc3vaa",
        "outputId": "bd88a9d6-8613-4ef1-fa23-f4c24bb64c73"
      },
      "id": "VfUdZ-Cc3vaa",
      "execution_count": null,
      "outputs": [
        {
          "output_type": "execute_result",
          "data": {
            "text/plain": [
              "Index(['a_id', 'a_title', 'a_description', 'a_price', 'g_id', 'g_ititle',\n",
              "       'g_description', 'g_price', 'match'],\n",
              "      dtype='object')"
            ]
          },
          "metadata": {},
          "execution_count": 58
        }
      ]
    },
    {
      "cell_type": "code",
      "source": [
        "X = df.a_description\n",
        "Y = df.match\n",
        "le = LabelEncoder()\n",
        "Y = le.fit_transform(Y)\n",
        "Y = Y.reshape(-1,1)\n",
        "\n",
        "X_train,X_test,Y_train,Y_test = train_test_split(X,Y,test_size=0.15)\n",
        "\n",
        "max_words = 1000\n",
        "max_len = 150\n",
        "tok = Tokenizer(num_words=max_words)\n",
        "tok.fit_on_texts(X_train)\n",
        "sequences = tok.texts_to_sequences(X_train)\n",
        "sequences_matrix = sequence.pad_sequences(sequences,maxlen=max_len)\n",
        "\n",
        "def RNN():\n",
        "    inputs = Input(name='inputs',shape=[max_len])\n",
        "    layer = Embedding(max_words,50,input_length=max_len)(inputs)\n",
        "    layer = LSTM(64)(layer)\n",
        "    layer = Dense(256,name='FC1')(layer)\n",
        "    layer = Activation('relu')(layer)\n",
        "    layer = Dropout(0.5)(layer)\n",
        "    layer = Dense(1,name='out_layer')(layer)\n",
        "    layer = Activation('sigmoid')(layer)\n",
        "    model = Model(inputs=inputs,outputs=layer)\n",
        "    return model\n",
        "\n",
        "model = RNN()\n",
        "model.summary()\n",
        "model.compile(loss='binary_crossentropy',optimizer=RMSprop(),metrics=['accuracy'])"
      ],
      "metadata": {
        "id": "6GUHNAOm1TdF"
      },
      "id": "6GUHNAOm1TdF",
      "execution_count": null,
      "outputs": []
    },
    {
      "cell_type": "code",
      "source": [
        "model.fit(sequences_matrix,Y_train,batch_size=128,epochs=10,\n",
        "          validation_split=0.2,callbacks=[EarlyStopping(monitor='val_loss',min_delta=0.0001)])\n",
        "\n",
        "test_sequences = tok.texts_to_sequences(X_test)\n",
        "test_sequences_matrix = sequence.pad_sequences(test_sequences,maxlen=max_len)"
      ],
      "metadata": {
        "id": "aZkangEW3MlU"
      },
      "id": "aZkangEW3MlU",
      "execution_count": null,
      "outputs": []
    },
    {
      "cell_type": "code",
      "source": [
        "accr = model.evaluate(test_sequences_matrix,Y_test)"
      ],
      "metadata": {
        "id": "tF8G0xCB3SeH"
      },
      "id": "tF8G0xCB3SeH",
      "execution_count": null,
      "outputs": []
    },
    {
      "cell_type": "code",
      "source": [
        "torch.cuda.is_available()"
      ],
      "metadata": {
        "id": "iEr2Q7DKvMO4"
      },
      "id": "iEr2Q7DKvMO4",
      "execution_count": null,
      "outputs": []
    },
    {
      "cell_type": "code",
      "source": [],
      "metadata": {
        "id": "qFJkrfgovNVd"
      },
      "id": "qFJkrfgovNVd",
      "execution_count": null,
      "outputs": []
    }
  ],
  "metadata": {
    "accelerator": "GPU",
    "colab": {
      "collapsed_sections": [],
      "provenance": [],
      "include_colab_link": true
    },
    "gpuClass": "standard",
    "kernelspec": {
      "display_name": "Python 3",
      "language": "python",
      "name": "python3"
    },
    "language_info": {
      "codemirror_mode": {
        "name": "ipython",
        "version": 3
      },
      "file_extension": ".py",
      "mimetype": "text/x-python",
      "name": "python",
      "nbconvert_exporter": "python",
      "pygments_lexer": "ipython3",
      "version": "3.7.4"
    }
  },
  "nbformat": 4,
  "nbformat_minor": 5
}